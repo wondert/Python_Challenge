{
 "cells": [
  {
   "cell_type": "markdown",
   "metadata": {},
   "source": [
    "# Python Challange #0"
   ]
  },
  {
   "cell_type": "markdown",
   "metadata": {},
   "source": [
    "http://www.pythonchallenge.com/pc/def/0.html"
   ]
  },
  {
   "cell_type": "code",
   "execution_count": 1,
   "metadata": {
    "collapsed": false
   },
   "outputs": [
    {
     "data": {
      "text/plain": [
       "274877906944"
      ]
     },
     "execution_count": 1,
     "metadata": {},
     "output_type": "execute_result"
    }
   ],
   "source": [
    "2**38"
   ]
  },
  {
   "cell_type": "markdown",
   "metadata": {},
   "source": [
    "http://www.pythonchallenge.com/pc/def/274877906944.html"
   ]
  },
  {
   "cell_type": "markdown",
   "metadata": {},
   "source": [
    "# Python Challenge #1"
   ]
  },
  {
   "cell_type": "code",
   "execution_count": 2,
   "metadata": {
    "collapsed": false
   },
   "outputs": [],
   "source": [
    "mystery1 = \"g fmnc wms bgblr rpylqjyrc gr zw fylb. rfyrq ufyr amknsrcpq ypc dmp. bmgle gr gl zw fylb gq glcddgagclr ylb rfyr'q ufw rfgq rcvr gq qm\" \n",
    "mystery2 = \"jmle. sqgle qrpgle.kyicrpylq() gq pcamkkclbcb. lmu ynnjw ml rfc spj.\""
   ]
  },
  {
   "cell_type": "code",
   "execution_count": 3,
   "metadata": {
    "collapsed": false
   },
   "outputs": [
    {
     "data": {
      "text/plain": [
       "['a',\n",
       " 'b',\n",
       " 'c',\n",
       " 'd',\n",
       " 'e',\n",
       " 'f',\n",
       " 'g',\n",
       " 'h',\n",
       " 'i',\n",
       " 'j',\n",
       " 'k',\n",
       " 'l',\n",
       " 'm',\n",
       " 'n',\n",
       " 'o',\n",
       " 'p',\n",
       " 'q',\n",
       " 'r',\n",
       " 's',\n",
       " 't',\n",
       " 'u',\n",
       " 'v',\n",
       " 'w',\n",
       " 'x',\n",
       " 'y',\n",
       " 'z']"
      ]
     },
     "execution_count": 3,
     "metadata": {},
     "output_type": "execute_result"
    }
   ],
   "source": [
    "import string\n",
    "lettered = list(string.ascii_lowercase)\n",
    "lettered"
   ]
  },
  {
   "cell_type": "code",
   "execution_count": 4,
   "metadata": {
    "collapsed": false
   },
   "outputs": [
    {
     "data": {
      "text/plain": [
       "{'n': 'p',\n",
       " 'b': 'd',\n",
       " 'v': 'x',\n",
       " 'e': 'g',\n",
       " 'l': 'n',\n",
       " 'u': 'w',\n",
       " 'd': 'f',\n",
       " 'h': 'j',\n",
       " 'q': 's',\n",
       " 's': 'u',\n",
       " 'p': 'r',\n",
       " 'm': 'o',\n",
       " 'f': 'h',\n",
       " 'z': 'b',\n",
       " 'r': 't',\n",
       " 'a': 'c',\n",
       " 'w': 'y',\n",
       " 't': 'v',\n",
       " 'k': 'm',\n",
       " 'o': 'q',\n",
       " 'x': 'z',\n",
       " 'g': 'i',\n",
       " 'j': 'l',\n",
       " 'y': 'a',\n",
       " 'c': 'e',\n",
       " 'i': 'k'}"
      ]
     },
     "execution_count": 4,
     "metadata": {},
     "output_type": "execute_result"
    }
   ],
   "source": [
    "letters = lettered[24:] + lettered[0:24]\n",
    "numbers = {i:k for i,k in zip(letters, lettered)}\n",
    "numbers"
   ]
  },
  {
   "cell_type": "code",
   "execution_count": 5,
   "metadata": {
    "collapsed": false
   },
   "outputs": [],
   "source": [
    "alt = {\"'\":\"'\", \".\":\".\", \"(\":\"(\", \")\":\")\", \" \":\" \", \"/\":\"/\"} "
   ]
  },
  {
   "cell_type": "code",
   "execution_count": 6,
   "metadata": {
    "collapsed": false
   },
   "outputs": [
    {
     "data": {
      "text/plain": [
       "{'n': 'p',\n",
       " 'b': 'd',\n",
       " 'v': 'x',\n",
       " 'w': 'y',\n",
       " 'l': 'n',\n",
       " 'u': 'w',\n",
       " 'd': 'f',\n",
       " 'c': 'e',\n",
       " 'h': 'j',\n",
       " 'q': 's',\n",
       " 's': 'u',\n",
       " 'p': 'r',\n",
       " 'm': 'o',\n",
       " \"'\": \"'\",\n",
       " 'f': 'h',\n",
       " 'z': 'b',\n",
       " 'j': 'l',\n",
       " 'a': 'c',\n",
       " 'x': 'z',\n",
       " 't': 'v',\n",
       " '.': '.',\n",
       " '/': '/',\n",
       " 'k': 'm',\n",
       " 'o': 'q',\n",
       " 'g': 'i',\n",
       " 'r': 't',\n",
       " 'e': 'g',\n",
       " ' ': ' ',\n",
       " 'y': 'a',\n",
       " ')': ')',\n",
       " 'i': 'k',\n",
       " '(': '('}"
      ]
     },
     "execution_count": 6,
     "metadata": {},
     "output_type": "execute_result"
    }
   ],
   "source": [
    "numbi = dict(list(numbers.items()) + list(alt.items()))\n",
    "numbi"
   ]
  },
  {
   "cell_type": "code",
   "execution_count": 7,
   "metadata": {
    "collapsed": false
   },
   "outputs": [],
   "source": [
    "def translate(letter, dictionary):\n",
    "    if letter in dictionary:\n",
    "        return dictionary[letter]"
   ]
  },
  {
   "cell_type": "code",
   "execution_count": 8,
   "metadata": {
    "collapsed": false
   },
   "outputs": [],
   "source": [
    "def translator(sentence):\n",
    "    translation = []\n",
    "    word = ''\n",
    "    for c in sentence:\n",
    "        if c != '':\n",
    "            word = word + translate(c, numbi)\n",
    "        else:\n",
    "            translation.append(word)\n",
    "    return \" \".join(translation) + ' ' + word"
   ]
  },
  {
   "cell_type": "code",
   "execution_count": 9,
   "metadata": {
    "collapsed": false
   },
   "outputs": [
    {
     "data": {
      "text/plain": [
       "\"'\""
      ]
     },
     "execution_count": 9,
     "metadata": {},
     "output_type": "execute_result"
    }
   ],
   "source": [
    "translate(\"'\", numbi)"
   ]
  },
  {
   "cell_type": "code",
   "execution_count": 10,
   "metadata": {
    "collapsed": false
   },
   "outputs": [
    {
     "data": {
      "text/plain": [
       "' '"
      ]
     },
     "execution_count": 10,
     "metadata": {},
     "output_type": "execute_result"
    }
   ],
   "source": [
    "translate(\" \", numbi)"
   ]
  },
  {
   "cell_type": "code",
   "execution_count": 11,
   "metadata": {
    "collapsed": false
   },
   "outputs": [
    {
     "data": {
      "text/plain": [
       "'.'"
      ]
     },
     "execution_count": 11,
     "metadata": {},
     "output_type": "execute_result"
    }
   ],
   "source": [
    "translate(\".\", numbi)"
   ]
  },
  {
   "cell_type": "code",
   "execution_count": 12,
   "metadata": {
    "collapsed": false
   },
   "outputs": [
    {
     "data": {
      "text/plain": [
       "'('"
      ]
     },
     "execution_count": 12,
     "metadata": {},
     "output_type": "execute_result"
    }
   ],
   "source": [
    "translate(\"(\", numbi)"
   ]
  },
  {
   "cell_type": "code",
   "execution_count": 13,
   "metadata": {
    "collapsed": false
   },
   "outputs": [
    {
     "data": {
      "text/plain": [
       "')'"
      ]
     },
     "execution_count": 13,
     "metadata": {},
     "output_type": "execute_result"
    }
   ],
   "source": [
    "translate(\")\", numbi)"
   ]
  },
  {
   "cell_type": "code",
   "execution_count": 14,
   "metadata": {
    "collapsed": false
   },
   "outputs": [
    {
     "data": {
      "text/plain": [
       "\" i hope you didnt translate it by hand. thats what computers are for. doing it in by hand is inefficient and that's why this text is so\""
      ]
     },
     "execution_count": 14,
     "metadata": {},
     "output_type": "execute_result"
    }
   ],
   "source": [
    "translator(mystery1)"
   ]
  },
  {
   "cell_type": "code",
   "execution_count": 15,
   "metadata": {
    "collapsed": false
   },
   "outputs": [
    {
     "data": {
      "text/plain": [
       "' long. using string.maketrans() is recommended. now apply on the url.'"
      ]
     },
     "execution_count": 15,
     "metadata": {},
     "output_type": "execute_result"
    }
   ],
   "source": [
    "translator(mystery2)"
   ]
  },
  {
   "cell_type": "code",
   "execution_count": 16,
   "metadata": {
    "collapsed": false
   },
   "outputs": [],
   "source": [
    "url = 'map'"
   ]
  },
  {
   "cell_type": "code",
   "execution_count": 17,
   "metadata": {
    "collapsed": false
   },
   "outputs": [
    {
     "data": {
      "text/plain": [
       "' ocr'"
      ]
     },
     "execution_count": 17,
     "metadata": {},
     "output_type": "execute_result"
    }
   ],
   "source": [
    "translator(url)"
   ]
  },
  {
   "cell_type": "markdown",
   "metadata": {},
   "source": [
    "http://www.pythonchallenge.com/pc/def/ocr.html"
   ]
  },
  {
   "cell_type": "markdown",
   "metadata": {},
   "source": [
    "To see the solutions to the previous level, replace pc with pcc, i.e. go to: http://www.pythonchallenge.com/pcc/def/ocr.html"
   ]
  },
  {
   "cell_type": "markdown",
   "metadata": {},
   "source": [
    "# Python Challenge #2"
   ]
  },
  {
   "cell_type": "markdown",
   "metadata": {},
   "source": [
    "Recognize the characters. maybe they are in the book, \n",
    "But MAYBE they are in the page source."
   ]
  },
  {
   "cell_type": "markdown",
   "metadata": {},
   "source": [
    "view page source code for data"
   ]
  },
  {
   "cell_type": "markdown",
   "metadata": {},
   "source": [
    "I saved html only file, removed html headers/markups leaving only text data, and saved as .txt in Notepad++ "
   ]
  },
  {
   "cell_type": "markdown",
   "metadata": {},
   "source": [
    "find rare characters in the mess below:"
   ]
  },
  {
   "cell_type": "code",
   "execution_count": 18,
   "metadata": {
    "collapsed": false
   },
   "outputs": [],
   "source": [
    "rare_counts = open(r'C:\\Users\\Rafael\\Pybio\\Python Challenge\\challenge2.txt', encoding='utf-8')"
   ]
  },
  {
   "cell_type": "markdown",
   "metadata": {},
   "source": [
    "The iteratable object above gets consumed after a single-pass of the iteration protocol!!!!"
   ]
  },
  {
   "cell_type": "code",
   "execution_count": 19,
   "metadata": {
    "collapsed": false
   },
   "outputs": [],
   "source": [
    "count = 0\n",
    "text = []\n",
    "for line in rare_counts:\n",
    "    text.append(line.rstrip())"
   ]
  },
  {
   "cell_type": "code",
   "execution_count": 20,
   "metadata": {
    "collapsed": false
   },
   "outputs": [
    {
     "data": {
      "text/plain": [
       "1220"
      ]
     },
     "execution_count": 20,
     "metadata": {},
     "output_type": "execute_result"
    }
   ],
   "source": [
    "len(text)"
   ]
  },
  {
   "cell_type": "code",
   "execution_count": 21,
   "metadata": {
    "collapsed": false
   },
   "outputs": [
    {
     "data": {
      "text/plain": [
       "'%%$@_$^__#)^)&!_+]!*@&^}@[@%]()%+$&[(_@%+%$*^@$^!+]!&_#)_*}{}}!}_]$[%}@[{_@#_^{*'"
      ]
     },
     "execution_count": 21,
     "metadata": {},
     "output_type": "execute_result"
    }
   ],
   "source": [
    "text[0]"
   ]
  },
  {
   "cell_type": "code",
   "execution_count": 22,
   "metadata": {
    "collapsed": false
   },
   "outputs": [],
   "source": [
    "datastring = \"\".join(text)"
   ]
  },
  {
   "cell_type": "code",
   "execution_count": 23,
   "metadata": {
    "collapsed": false
   },
   "outputs": [
    {
     "data": {
      "text/plain": [
       "97545"
      ]
     },
     "execution_count": 23,
     "metadata": {},
     "output_type": "execute_result"
    }
   ],
   "source": [
    "len(datastring)"
   ]
  },
  {
   "cell_type": "code",
   "execution_count": 24,
   "metadata": {
    "collapsed": false
   },
   "outputs": [
    {
     "data": {
      "text/plain": [
       "'\\ntotalset = set()\\nfreq = dict()\\nfor c in datastring:\\n    if element not in totalset:\\n        totalset.add(element)\\n        freq[element] = 1\\n    else:\\n        freq[element] = freq[element] + 1\\n        \\nprint()\\n'"
      ]
     },
     "execution_count": 24,
     "metadata": {},
     "output_type": "execute_result"
    }
   ],
   "source": [
    "# Need to figure out how to implement updating the value of a key:value pair in a dict.\n",
    "'''\n",
    "totalset = set()\n",
    "freq = dict()\n",
    "for c in datastring:\n",
    "    if element not in totalset:\n",
    "        totalset.add(element)\n",
    "        freq[element] = 1\n",
    "    else:\n",
    "        freq[element] = freq[element] + 1\n",
    "        \n",
    "print()\n",
    "'''"
   ]
  },
  {
   "cell_type": "code",
   "execution_count": 28,
   "metadata": {
    "collapsed": true
   },
   "outputs": [],
   "source": [
    "# totalset"
   ]
  },
  {
   "cell_type": "code",
   "execution_count": 30,
   "metadata": {
    "collapsed": false
   },
   "outputs": [],
   "source": [
    "# freq"
   ]
  },
  {
   "cell_type": "code",
   "execution_count": 31,
   "metadata": {
    "collapsed": false
   },
   "outputs": [],
   "source": [
    "from collections import Counter"
   ]
  },
  {
   "cell_type": "code",
   "execution_count": 32,
   "metadata": {
    "collapsed": false
   },
   "outputs": [],
   "source": [
    "c = Counter(datastring)"
   ]
  },
  {
   "cell_type": "code",
   "execution_count": 33,
   "metadata": {
    "collapsed": false
   },
   "outputs": [
    {
     "data": {
      "text/plain": [
       "24"
      ]
     },
     "execution_count": 33,
     "metadata": {},
     "output_type": "execute_result"
    }
   ],
   "source": [
    "len(c)"
   ]
  },
  {
   "cell_type": "code",
   "execution_count": 34,
   "metadata": {
    "collapsed": false
   },
   "outputs": [
    {
     "data": {
      "text/plain": [
       "[(')', 6186),\n",
       " ('@', 6157),\n",
       " ('(', 6154),\n",
       " (']', 6152),\n",
       " ('#', 6115),\n",
       " ('_', 6112),\n",
       " ('[', 6108),\n",
       " ('}', 6105),\n",
       " ('%', 6104),\n",
       " ('!', 6079),\n",
       " ('+', 6066),\n",
       " ('{', 6046),\n",
       " ('$', 6046),\n",
       " ('&', 6043),\n",
       " ('*', 6034),\n",
       " ('^', 6030),\n",
       " ('u', 1),\n",
       " ('l', 1),\n",
       " ('q', 1),\n",
       " ('e', 1),\n",
       " ('t', 1),\n",
       " ('i', 1),\n",
       " ('y', 1),\n",
       " ('a', 1)]"
      ]
     },
     "execution_count": 34,
     "metadata": {},
     "output_type": "execute_result"
    }
   ],
   "source": [
    "c.most_common(24)"
   ]
  },
  {
   "cell_type": "code",
   "execution_count": 35,
   "metadata": {
    "collapsed": false
   },
   "outputs": [
    {
     "data": {
      "text/plain": [
       "[('a', 1),\n",
       " ('y', 1),\n",
       " ('i', 1),\n",
       " ('t', 1),\n",
       " ('e', 1),\n",
       " ('q', 1),\n",
       " ('l', 1),\n",
       " ('u', 1),\n",
       " ('^', 6030),\n",
       " ('*', 6034),\n",
       " ('&', 6043),\n",
       " ('$', 6046),\n",
       " ('{', 6046),\n",
       " ('+', 6066)]"
      ]
     },
     "execution_count": 35,
     "metadata": {},
     "output_type": "execute_result"
    }
   ],
   "source": [
    "c.most_common()[:-(15):-1]          # This is the current implementation for finding least common elements; c.most_common())[:-(n):-1]"
   ]
  },
  {
   "cell_type": "markdown",
   "metadata": {},
   "source": [
    "i e q a l u y t ---------> e q u a l i t y"
   ]
  },
  {
   "cell_type": "markdown",
   "metadata": {},
   "source": [
    "http://www.pythonchallenge.com/pc/def/equality.html"
   ]
  },
  {
   "cell_type": "markdown",
   "metadata": {},
   "source": [
    "To see the solutions to the previous level, replace pc with pcc, i.e. go to: http://www.pythonchallenge.com/pcc/def/equality.html "
   ]
  },
  {
   "cell_type": "markdown",
   "metadata": {},
   "source": [
    "# Python Challenge #3"
   ]
  },
  {
   "cell_type": "markdown",
   "metadata": {},
   "source": [
    "One small letter, surrounded by EXACTLY three big bodyguards on each of its sides."
   ]
  },
  {
   "cell_type": "markdown",
   "metadata": {},
   "source": [
    "view page source code for data"
   ]
  },
  {
   "cell_type": "markdown",
   "metadata": {},
   "source": [
    "Like before can saved html only file, removed html headers/markups leaving only text data, and saved as .txt in Notepad++ "
   ]
  },
  {
   "cell_type": "markdown",
   "metadata": {},
   "source": [
    "Should probably just learn how to parse html..."
   ]
  },
  {
   "cell_type": "code",
   "execution_count": 36,
   "metadata": {
    "collapsed": false
   },
   "outputs": [
    {
     "data": {
      "text/plain": [
       "'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'"
      ]
     },
     "execution_count": 36,
     "metadata": {},
     "output_type": "execute_result"
    }
   ],
   "source": [
    "# open .txt file converted from html, set encoding to 'utf-8'\n",
    "hidden_secret = open(r'C:\\Users\\Rafael\\Pybio\\Python Challenge\\challenge3.txt', encoding='utf-8')\n",
    "# strip all newline /n characters from each line, collect results in a list\n",
    "hidden = [line.rstrip() for line in hidden_secret]\n",
    "# combine each element in list into a string\n",
    "secret = ''.join(hidden)\n",
    "secret"
   ]
  },
  {
   "cell_type": "markdown",
   "metadata": {},
   "source": [
    "The regular expression we will use to find the sequence YYYyYYY where y is any letter.\n",
    "\n",
    "        [A-Z]{3}[a-z]{1}[A-Z]{3}\n",
    "    \n",
    "        [A-Z]{3} --- matches any three consecutive uppercase letters\n",
    "    \n",
    "        [a-z]{1} --- matches a single lowercase letter\n",
    "    \n",
    "We want our regular expression to match anywhere in the string, so we omit ^ or $ which match at start or end\n",
    "\n",
    "We also want to make sure it captures everything that matches our regex, we want to be sure it's unique"
   ]
  },
  {
   "cell_type": "markdown",
   "metadata": {},
   "source": [
    "### re module"
   ]
  },
  {
   "cell_type": "code",
   "execution_count": 37,
   "metadata": {
    "collapsed": false
   },
   "outputs": [
    {
     "data": {
      "text/html": [
       "\n",
       "        <iframe\n",
       "            width=\"400\"\n",
       "            height=300\"\n",
       "            src=\"https://www.youtube.com/embed/sZyAn2TW7GY\"\n",
       "            frameborder=\"0\"\n",
       "            allowfullscreen\n",
       "        ></iframe>\n",
       "        "
      ],
      "text/plain": [
       "<IPython.lib.display.YouTubeVideo at 0x475ba58>"
      ]
     },
     "execution_count": 37,
     "metadata": {},
     "output_type": "execute_result"
    }
   ],
   "source": [
    "# Embed tutorial for re module in this browser\n",
    "from IPython.display import YouTubeVideo\n",
    "# YouTubeVideo() takes the video variable get request\n",
    "# So you only need the url after the get request for watch \n",
    "# /watch?v=\n",
    "YouTubeVideo('sZyAn2TW7GY')"
   ]
  },
  {
   "cell_type": "code",
   "execution_count": 38,
   "metadata": {
    "collapsed": false
   },
   "outputs": [],
   "source": [
    "import re"
   ]
  },
  {
   "cell_type": "code",
   "execution_count": 39,
   "metadata": {
    "collapsed": false
   },
   "outputs": [
    {
     "name": "stdout",
     "output_type": "stream",
     "text": [
      "['WDZjUZM', 'JVVfEGR', 'SHPeKUJ', 'FBKiLSF', 'CGYaMNK', 'JIPuOHY', 'SJFzWSG', 'MZLrORO', 'IKHoWJZ', 'YTYiWIU', 'TLKvIPG', 'RPBgLPD', 'MXVzDPO', 'OXObJYI', 'MTCmGEH', 'PCDpHIV', 'YXLsUFT', 'CVKzIKJ', 'BFXaYKG', 'NNWzBFX', 'IQNlQSL', 'ACBuUJT', 'DBDtODU', 'UCSnAYQ', 'OLAwLQA', 'KDZsHQJ', 'ZXYdEHG', 'IHToMPG', 'UQFfVTU', 'RAOdHIZ', 'XRGbNVK', 'LRYiYTJ', 'CAQwPFN', 'GNBqQTC', 'PDOdOXV', 'XORjWFT', 'RRObZUL', 'WDXzQOP', 'LHGsDZT', 'MXThWAR', 'SVWfOVI', 'SXUrANU', 'QMTbPFZ', 'XGIlRQO', 'KCCqLRG', 'IQAgTRK', 'UPYsYXG', 'DSDbLUG', 'XQOySOM', 'XKTfTOO', 'LOLdUQS', 'AESaDJI', 'LNVjEFL', 'CDNyXWN', 'UKEgXHR', 'FNCcVOV', 'WLIbUNI', 'QMLlAPV', 'OTSwGSB', 'XSDjVKV', 'ASGwZRW', 'XYRgBKH', 'ABUgWAF', 'XTWtAIW', 'KELdJFJ', 'IKXfKWM', 'ZVCjITM', 'PQZeKCA', 'YPNtWAB', 'HEAoCAQ', 'RJObKIN', 'SKBcIAF', 'WXLmTNJ', 'FWXdDNM', 'YVDlHSJ', 'IPZzTFM', 'BEMxBOJ', 'JHEaTDU', 'OVQjHOE', 'DTSvTPR', 'OEKiVEY', 'UIOtZAU', 'YZXhBMI', 'PJEeEMI', 'HWDcPDF', 'ZQCgQSB', 'RTSpERU', 'VKRkWJM', 'EGBcCAG', 'SXWfEZE', 'VSJwVPY', 'SLWqPNK', 'AZKqIHW', 'PUObBDZ', 'GTPvPUO', 'PXGkQDZ', 'SNLoZJJ', 'CAEiFTL', 'XFIeHWG', 'GMVtPCG', 'IYNpXMB', 'UZViUEX', 'QDKiKKT', 'HTLjVWB', 'FYCaBIW', 'ZADnMCZ', 'ZRUvJLB', 'EYAvUSH', 'GTVqDVS', 'FDLjSMM', 'NEDjFZV', 'DBWgVAN', 'NBUtKHL', 'QMGcYHY', 'BXZtFYQ', 'QXFpLMM', 'LGKcMCS', 'SLUaXXK', 'JKEdFJW', 'HWXzAXY', 'PRLjJDN', 'UVWkQDH', 'QWLgNEG', 'MDLuAET', 'JPKcMEL', 'OYOmRJB', 'OAQlLBD', 'JAAuKPQ', 'KNHaHKY', 'TSYiNYK', 'YJUdHVA', 'EZEgIGB', 'HYAuZPF', 'THTmACE', 'CMHlXFK', 'MKTcZVQ', 'KYZdJQS', 'DDGsIBJ', 'AULkFOQ', 'OBUuMKP', 'EJKnFQX', 'GTVuBJZ', 'WKZjOTW', 'MNXfPJM', 'NHIcELN', 'YHIjLAC', 'SHJfNEE', 'QBTmYYY', 'YLAbOSY', 'PWYzVIO', 'ZUTkLYN', 'YKPzFMD', 'IRNxQGS', 'DEGsFLB', 'NCWaQUF', 'LGDsOEY', 'ECLdLHW', 'QZKxPRV', 'QLRsVXI', 'WCFqMLC', 'FSIqLBG', 'IFEqJLE', 'FPAlGBE', 'NWFaNWV', 'JIYeUSB', 'CWQiPOV', 'ACPsGXR', 'ZJLjHVQ', 'WLTeENK', 'CWNfBYQ', 'XUCjSLA', 'OLKfMXS', 'CDXdUJT', 'RSMaQTH', 'FGOoNZD', 'GDNlZHY', 'IPVkUAC', 'YYKjVVN', 'SZOaOFV', 'DWUkFBF', 'TQByQDQ', 'VDCpOHL', 'ZRXwABR', 'BAVxLDL', 'RBCjOHL', 'GSKtHQY', 'PIXlHGU', 'PTOhTHJ', 'GJRqBSD', 'DGLjKQU', 'ZRDkCBM', 'MUTnFHY', 'CNDeHSB', 'OMFdRKD', 'HTGnTGD', 'KAXxUFR', 'ZEWuKHE', 'ZVGnLNM', 'VARsYBD', 'ELIaZZI', 'TVOhUSE', 'GFXxWDH', 'AHSqRLM', 'QPSePPO', 'YIHdITM', 'DDDoJOC', 'ZKVeRHW', 'CNCqRIC', 'NLEsMBB', 'JSAdUJB', 'ONCcHWQ', 'CRVmYCL', 'GGHmDHI', 'OZRhSYJ', 'ICAlNMW', 'LZAtOWE', 'JGScCMT', 'JNGqCBI', 'AGAsECC', 'NBUnHUK', 'DMXwJDC', 'GGQaGTA', 'WKKkAAR', 'CPJjGAG', 'VANxBIX', 'PNKtGUS', 'MYEeTLJ', 'ANUtZGI', 'PBNaHRL', 'JWHaWPL', 'GFOlJBT', 'SXHhENS', 'JJHgUII', 'DFPaUJA', 'WKYbIVE', 'HBKeQQW', 'DRCkFTD', 'DDQfWAQ', 'SIImGLV', 'SZNyRRA', 'VUHiXUX', 'VARmCCL', 'PICwBIX', 'QZJrDUA', 'PCXkYZT', 'KGLfRDR', 'SFAfAIX', 'GXKyJFK', 'OIXdKBF', 'ZGQgMFY', 'TLKhCGF', 'SBAiJWU', 'NRRuBZQ', 'IIRnJNC', 'XJVlGZV', 'CYPrCXG', 'KZAoJHO', 'OQHiHBB', 'XMAwKHW', 'OEOgMZP', 'YRKkDMH', 'DPYuULW', 'HMBdNIG', 'WYRzPCG', 'JOTsLAI', 'CFQqTUN', 'JCAlMGL', 'PGTjUOC', 'LRFjSNB', 'FCIbBTX', 'LLNsDPL', 'MODiKIA', 'ZDVxSYZ', 'XIRgQYX', 'KEJuOWV', 'LXJyYAW', 'QMKtBBB', 'OJMfOOP', 'UZGsIET', 'VZBaRZT', 'OCEtVLG', 'WLReIRI', 'PTTjMAS', 'TLWmJBN', 'VIDdPDI', 'JVCwAWS', 'AXYkXBH', 'DAPfFTC', 'FBAbJXZ', 'YLBzULE', 'DCEiAXS', 'YQXfOZG', 'PQAdFDS', 'FOAkMWQ', 'ERDnCBU', 'TYFpCSC', 'WUPaMEV', 'VQXcLEU', 'ZEFqJCJ', 'CBOiPEU', 'IUPmKEQ', 'TEEvIHF', 'HYVeACQ', 'WMHhZNF', 'RSWxBYB', 'ZXJuPSE', 'OQHjRBE', 'BPEsCON', 'DNYzVYH', 'INFmMNS', 'QIKbQHC', 'YZKuDDN', 'ESYyIPT', 'KJIuOSH', 'CRTtYTP', 'EKJsDCK', 'MTQoUZE', 'NHHmSTN', 'NSTpVJP', 'HQLiRTX', 'DSLjIWQ', 'BBXcGTN', 'AEDjHDH', 'KHCoXNO', 'LEXjYGJ', 'RNPsBHB', 'BZEpFCI', 'GFFbDFD', 'BQPyNJP', 'MLIwWCV', 'NPVlBBZ', 'LEXrKEC', 'TLWoPNH', 'UXDeAEH', 'WIKfXNU', 'EFAiJAU', 'DQSwCYY', 'ZEPmPJW', 'JHJrVOI', 'JNVsVGT', 'BFGjQFN', 'JFYsKLP', 'ZPYtRLK', 'PFYdKVB', 'WZLjLMH', 'KBFhJKR', 'FCXgWIK', 'MFMwGFS', 'ZKXxVYU', 'CNLhKVE', 'NJLnXXC', 'PZTtECM', 'XFOhTMG', 'KNDsXSD', 'AYToUOW', 'OSSoWET', 'RNEsAHO', 'QRUmXIC', 'PGLoJCJ', 'QIXqOJG', 'NZQtPEN', 'JMSmCWZ', 'SHUuCBP', 'ELAfULK', 'KJIoNFQ', 'NPPxDCD', 'OAIvBSX', 'JTRpCEV', 'IWGvWHP', 'XUNpROG', 'RCXjXKH', 'AOYpBOB', 'RRKkWXC', 'NXGgETO', 'VCCiLRQ', 'VCJaEWZ', 'GUHqKJB', 'LTWgRFX', 'LQJfSMM', 'XBCrOBW', 'ZJAhSER', 'CZYuFTF', 'DTGfQHQ', 'EMVxNDF', 'STHxGXD', 'JVYdQED', 'FWQnNPM', 'GQRjMHX', 'IYRiDGE', 'ILDwEWY', 'VFZtWQS', 'LALfWOD', 'STAqEQT', 'VNNuPAE', 'CKQsBRP', 'COPbIJW', 'XLWkLNU', 'HBBeGLO', 'MABaVFA', 'YSIkKXL', 'YOWuZNF', 'QXBnIDG', 'MDJqDLH', 'NAFjMTZ', 'AVMgBDR', 'JWBdZEL', 'EABkHBQ', 'JVMnJRZ', 'WNTdHDY', 'UYWpXEN', 'RHAwUDD', 'SJDiEWK', 'CFHbQNV', 'ZNIlXOH', 'CBEkSHG', 'WWOlYJW', 'SKOgMOE', 'XGUjJLA', 'OYGoCZH', 'VCQuZNT', 'TIGnHUG', 'GMEiHOI', 'PHZvJAM', 'BLMhVIP', 'DFAgZAG', 'EHDxVQP', 'QSJsXUF', 'CIYnXKC', 'BCUeKMQ', 'MYQkHTS', 'MMCxGWO', 'ZGQjTQW', 'KXPgVYD', 'JHJrRAB', 'JDCrDPM', 'AJYbABW', 'BRVnRHG', 'CJAsACF', 'LIQlAIV', 'SSRpDMV', 'ABNuEDK', 'PJPaHMP', 'ZRRoKXE', 'XDVuMRA', 'BCDvWFD', 'IZPhBQX', 'BHRzWGR', 'LFMaBTD', 'CJObWSA', 'GPRiOML', 'VMYlNXC', 'FUFbQVC', 'VNZiYSW', 'WTDmUNV', 'GFCrPVB', 'UWWmNCM', 'VDJqRQK', 'BDVqKNC', 'RFNxVYB', 'VGJtVJO', 'JFFkCSV', 'KTFtKUB', 'CKHgYSM', 'LGDcKSH', 'MIZnHYH', 'SGOkGDP', 'VJPdHRP', 'TFDlMGV', 'FAVjEXP', 'ZQXoQQZ', 'YYHaTHC', 'FISsZMF', 'USGhGZU', 'UARnYFW', 'EAYeGJO', 'AQTkMWL', 'QJFxLWD', 'RMGwOQE', 'KWGtIDC', 'XDRsSEB', 'EPQgRAE', 'MJIvBUP', 'ZRBzPVB', 'DHLwDZO', 'ANSjBWB', 'AMMaKPE', 'VHNeOLP', 'CIAhEIH', 'TSDgPYL', 'WHFuVJA', 'LKUrTED', 'WANnCGX', 'WMKkOGI', 'BYFsUHC', 'KXYoYRS', 'AFAkVVU', 'GKOjIHO', 'EOCtNRY', 'XYDrIKP', 'YJHoHJF', 'SJSvHOB', 'JBQpBDU', 'KAYmZAE', 'XFXyUYU', 'NZNgCEP', 'HZKkLDA', 'JKBzIWH', 'IXQgNXE', 'ZMIeASQ', 'OZZoYMI', 'FHZlOVN', 'UVWwRMF', 'ISNyMSJ', 'URDsKBL', 'UIWfYFY', 'SVViSLM', 'KPNoEPP', 'OYHdDEW', 'QWAeYOY', 'JBImSUX', 'ZSWfJDM', 'CXZlEET', 'CFZmLTJ', 'YULkVBM', 'GRUwIYK', 'GVDmUUX', 'CGUjGBB']\n"
     ]
    }
   ],
   "source": [
    "# regex ---->  [A-Z]{3}[a-z]{1}[A-Z]{3}\n",
    "# re.findall(pattern, string) ---- escape regular expressions as raw strings (r'regexp')\n",
    "treasure = re.findall(r'[A-Z]{3}[a-z]{1}[A-Z]{3}', secret)\n",
    "print(treasure)"
   ]
  },
  {
   "cell_type": "markdown",
   "metadata": {},
   "source": [
    "So the clue was:\n",
    "    \n",
    "        Find one small letter, surrounded by EXACTLY three big bodyguards on each of its sides.\n",
    "    \n",
    "Where did we go wrong?\n",
    "\n",
    "Maybe they mean B for bodyguards???\n",
    "\n",
    "Lets try\n",
    "\n",
    "        [B]{3}[a-z]{1}[B]{3}?"
   ]
  },
  {
   "cell_type": "code",
   "execution_count": 40,
   "metadata": {
    "collapsed": false
   },
   "outputs": [
    {
     "name": "stdout",
     "output_type": "stream",
     "text": [
      "[]\n"
     ]
    }
   ],
   "source": [
    "# regex ---->  [B]{3}[a-z]{1}[B]{3}\n",
    "newtreasure = re.findall(r'[B]{3}[a-z]{1}[B]{3}', secret)\n",
    "print(newtreasure)"
   ]
  },
  {
   "cell_type": "markdown",
   "metadata": {},
   "source": [
    "Maybe they are being cute...\n",
    "\n",
    "        [BODYGUARDS]{3}[a-z]{1}[BODYGUARDS]{3}\n",
    "    \n",
    "if this works ima be pissed"
   ]
  },
  {
   "cell_type": "code",
   "execution_count": 41,
   "metadata": {
    "collapsed": false
   },
   "outputs": [
    {
     "name": "stdout",
     "output_type": "stream",
     "text": [
      "['DBDtODU', 'AOYpBOB']\n"
     ]
    }
   ],
   "source": [
    "# regex ---->  [B]{3}[a-z]{1}[B]{3}\n",
    "dumbtreasure = re.findall(r'[BODYGUARDS]{3}[a-z]{1}[BODYGUARDS]{3}', secret)\n",
    "print(dumbtreasure)"
   ]
  },
  {
   "cell_type": "markdown",
   "metadata": {},
   "source": [
    "So 'p' is not in letter, but 't' is....so lame"
   ]
  },
  {
   "cell_type": "code",
   "execution_count": 42,
   "metadata": {
    "collapsed": false
   },
   "outputs": [
    {
     "name": "stdout",
     "output_type": "stream",
     "text": [
      "['DBDtODU']\n"
     ]
    }
   ],
   "source": [
    "# regex ---->  [BODYGUARDS]{3}[letter]{1}[BODYGUARDS]{3}\n",
    "superlame = re.findall(r'[BODYGUARDS]{3}[letter]{1}[BODYGUARDS]{3}', secret)\n",
    "print(superlame)"
   ]
  },
  {
   "cell_type": "markdown",
   "metadata": {},
   "source": [
    "Welp...404\n",
    "\n",
    "        http://www.pythonchallenge.com/pc/def/DBDtODU.html\n",
    "\n",
    "\n",
    "Maybe EXACTLY is useful...\n",
    "\n",
    "        Find one small letter, surrounded by EXACTLY three big bodyguards on each of its sides."
   ]
  },
  {
   "cell_type": "code",
   "execution_count": 43,
   "metadata": {
    "collapsed": false
   },
   "outputs": [
    {
     "name": "stdout",
     "output_type": "stream",
     "text": [
      "[]\n"
     ]
    }
   ],
   "source": [
    "# regex ---->  [EXACTLY]{3}[letter]{1}[EXACTLY]{3}\n",
    "superlame_o = re.findall(r'[EXACTLY]{3}[letter]{1}[EXACTLY]{3}', secret)\n",
    "print(superlame_o)"
   ]
  },
  {
   "cell_type": "markdown",
   "metadata": {},
   "source": [
    "nope!!!"
   ]
  },
  {
   "cell_type": "markdown",
   "metadata": {},
   "source": [
    "Insight, it needs to have <b>SIDES!!!!!!!</b>\n",
    "\n",
    "So these sides, big or small?\n",
    "\n",
    "Well, it'd only be EXACTLY three big surronding if the sides were small\n",
    "\n",
    "*This makes sense, after several hours of slamming my head into the keyboard...*"
   ]
  },
  {
   "cell_type": "code",
   "execution_count": 44,
   "metadata": {
    "collapsed": false
   },
   "outputs": [
    {
     "name": "stdout",
     "output_type": "stream",
     "text": [
      "['l', 'i', 'n', 'k', 'e', 'd', 'l', 'i', 's', 't']\n"
     ]
    }
   ],
   "source": [
    "# regex ---->  [a-z]{1}[A-Z]{3}[a-z]{1}[A-Z]{3}[a-z]{1}\n",
    "superlame_os = re.findall(r'[a-z]{1}[A-Z]{3}([a-z])[A-Z]{3}[a-z]{1}', secret)\n",
    "print(superlame_os)"
   ]
  },
  {
   "cell_type": "code",
   "execution_count": 45,
   "metadata": {
    "collapsed": false
   },
   "outputs": [
    {
     "name": "stdout",
     "output_type": "stream",
     "text": [
      "linkedlist\n"
     ]
    }
   ],
   "source": [
    "print(''.join(superlame_os))"
   ]
  },
  {
   "cell_type": "markdown",
   "metadata": {},
   "source": [
    "It works!!!! \n",
    "\n",
    "    ---- linkedlist ----  \n",
    "    \n",
    "This is a traditional data structure in python collections, and under the hood"
   ]
  },
  {
   "cell_type": "markdown",
   "metadata": {},
   "source": [
    "http://www.pythonchallenge.com/pc/def/linkedlist.html\n",
    "\n",
    "To see the solutions to the previous level, replace pc with pcc, i.e. go to: http://www.pythonchallenge.com/pcc/def/linkedlist.html"
   ]
  },
  {
   "cell_type": "markdown",
   "metadata": {},
   "source": [
    "# Python Challenge #4"
   ]
  },
  {
   "cell_type": "markdown",
   "metadata": {},
   "source": [
    "So we get a blank page with only one line of text, linkedlist.php\n",
    "\n",
    "Viewing the source we get:\n",
    "    \n",
    "        linkedlist.php\n",
    "    \n",
    "Putting this at the end of the url leads to a new page...\n",
    "\n",
    "        http://www.pythonchallenge.com/pc/def/linkedlist.php\n",
    "    \n",
    "Yay we get a new picture!!! And a new message at the top of the page.\n",
    "\n",
    "<b>*follow the chain*<b>\n",
    "\n",
    "\n"
   ]
  },
  {
   "cell_type": "markdown",
   "metadata": {},
   "source": [
    "On the next page we see actual html, and the following:\n",
    "    \n",
    "        <a href=\"linkedlist.php?nothing=12345\">\n",
    "          \n",
    "This link takes us to an almost empty page similar to the first. \n",
    "\n",
    "        and the next nothing is 44827\n",
    "\n",
    "Replacing this sequence at the end of the url leads to a similar page:\n",
    "\n",
    "        and the next nothing is 45439\n",
    "    \n",
    "This goes on and on:\n",
    "\n",
    "        Your hands are getting tired and the next nothing is 94485\n",
    "    \n",
    "So, I need to automate this process, probably using an html parser"
   ]
  },
  {
   "cell_type": "markdown",
   "metadata": {},
   "source": [
    "### *This sounds like a job for urllib or requests and beautiful soup...*"
   ]
  },
  {
   "cell_type": "markdown",
   "metadata": {},
   "source": [
    "Couple points:\n",
    "\n",
    "+ We will probably want to start at the first url that leads to our linked pages\n",
    "\n",
    "         http://www.pythonchallenge.com/pc/def/linkedlist.php?nothing=12345\n",
    "\n",
    "+ We will want to maybe use a regex to find any sequence of digits in the encoding of our page\n",
    "\n",
    "        Not sure how many digits, so /d+$\n",
    "        \n",
    "        We do want to scan at the end the string"
   ]
  },
  {
   "cell_type": "code",
   "execution_count": 46,
   "metadata": {
    "collapsed": false
   },
   "outputs": [
    {
     "data": {
      "text/html": [
       "\n",
       "        <iframe\n",
       "            width=\"400\"\n",
       "            height=300\"\n",
       "            src=\"https://www.youtube.com/embed/3xQTJi2tqgk\"\n",
       "            frameborder=\"0\"\n",
       "            allowfullscreen\n",
       "        ></iframe>\n",
       "        "
      ],
      "text/plain": [
       "<IPython.lib.display.YouTubeVideo at 0x49af3c8>"
      ]
     },
     "execution_count": 46,
     "metadata": {},
     "output_type": "execute_result"
    }
   ],
   "source": [
    "# Here will be a video to explain using urllib and beautiful soup \n",
    "from IPython.display import YouTubeVideo\n",
    "# YouTubeVideo() takes the video variable get request\n",
    "# So you only need the url after the get request for watch \n",
    "# /watch?v=\n",
    "YouTubeVideo('3xQTJi2tqgk')"
   ]
  },
  {
   "cell_type": "code",
   "execution_count": 47,
   "metadata": {
    "collapsed": false
   },
   "outputs": [],
   "source": [
    "# We will go over the above pages for reference\n",
    "# import the HTTP client library such as urllib.request\n",
    "import urllib.request"
   ]
  },
  {
   "cell_type": "code",
   "execution_count": 48,
   "metadata": {
    "collapsed": false
   },
   "outputs": [
    {
     "name": "stdout",
     "output_type": "stream",
     "text": [
      "b'<html>\\n<head>\\n  <title>follow the chain</title>\\n  <link rel=\"stylesheet\" type=\"text/css\" href=\"../style.css\">\\n</head>\\n<body>\\n<!-- urllib may help. DON\\'T TRY ALL NOTHINGS, since it will never \\nend. 400 times is more than enough. -->\\n<center>\\n<a href=\"linkedlist.php?nothing=12345\"><img src=\"chainsaw.jpg\" border=\"0\"/></a>\\n<br><br><font color=\"gold\"></center>\\nSolutions to previous levels: <a href=\"http://wiki.pythonchallenge.com/\"/>Python Challenge wiki</a>.\\n<br><br>\\nIRC: irc.freenode.net #pythonchallenge\\n</body>\\n</html>\\n\\n'\n"
     ]
    }
   ],
   "source": [
    "# print out html for our first link to challenge #4\n",
    "x = urllib.request.urlopen(r\"http://www.pythonchallenge.com/pc/def/linkedlist.php\")\n",
    "print(x.read())"
   ]
  },
  {
   "cell_type": "markdown",
   "metadata": {},
   "source": [
    "This is rather messy, so we use <b>*beautiful soup*</b> and <b>*requests*</b> to pretty it up!!!"
   ]
  },
  {
   "cell_type": "code",
   "execution_count": 49,
   "metadata": {
    "collapsed": false
   },
   "outputs": [
    {
     "data": {
      "text/plain": [
       "b'<html>\\n<head>\\n  <title>follow the chain</title>\\n  <link rel=\"stylesheet\" type=\"text/css\" href=\"../style.css\">\\n</head>\\n<body>\\n<!-- urllib may help. DON\\'T TRY ALL NOTHINGS, since it will never \\nend. 400 times is more than enough. -->\\n<center>\\n<a href=\"linkedlist.php?nothing=12345\"><img src=\"chainsaw.jpg\" border=\"0\"/></a>\\n<br><br><font color=\"gold\"></center>\\nSolutions to previous levels: <a href=\"http://wiki.pythonchallenge.com/\"/>Python Challenge wiki</a>.\\n<br><br>\\nIRC: irc.freenode.net #pythonchallenge\\n</body>\\n</html>\\n\\n'"
      ]
     },
     "execution_count": 49,
     "metadata": {},
     "output_type": "execute_result"
    }
   ],
   "source": [
    "import requests\n",
    "from bs4 import BeautifulSoup\n",
    "r = requests.get(\"http://www.pythonchallenge.com/pc/def/linkedlist.php\")\n",
    "r.content"
   ]
  },
  {
   "cell_type": "code",
   "execution_count": 50,
   "metadata": {
    "collapsed": false
   },
   "outputs": [
    {
     "data": {
      "text/plain": [
       "'<html>\\n <head>\\n  <title>\\n   follow the chain\\n  </title>\\n  <link href=\"../style.css\" rel=\"stylesheet\" type=\"text/css\"/>\\n </head>\\n <body>\\n  <!-- urllib may help. DON\\'T TRY ALL NOTHINGS, since it will never \\nend. 400 times is more than enough. -->\\n  <center>\\n   <a href=\"linkedlist.php?nothing=12345\">\\n    <img border=\"0\" src=\"chainsaw.jpg\"/>\\n   </a>\\n   <br/>\\n   <br/>\\n   <font color=\"gold\">\\n   </font>\\n  </center>\\n  Solutions to previous levels:\\n  <a href=\"http://wiki.pythonchallenge.com/\">\\n  </a>\\n  Python Challenge wiki.\\n  <br/>\\n  <br/>\\n  IRC: irc.freenode.net #pythonchallenge\\n </body>\\n</html>\\n'"
      ]
     },
     "execution_count": 50,
     "metadata": {},
     "output_type": "execute_result"
    }
   ],
   "source": [
    "# Prettify that ugly output with beautiful soup\n",
    "soup = BeautifulSoup(r.content)\n",
    "soup.prettify()"
   ]
  },
  {
   "cell_type": "code",
   "execution_count": 51,
   "metadata": {
    "collapsed": false
   },
   "outputs": [
    {
     "name": "stdout",
     "output_type": "stream",
     "text": [
      "\n",
      "\n",
      "follow the chain\n",
      "\n",
      "\n",
      "\n",
      "\n",
      "\n",
      "\n",
      "\n",
      "Solutions to previous levels: Python Challenge wiki.\n",
      "\n",
      "IRC: irc.freenode.net #pythonchallenge\n",
      "\n",
      "\n",
      "\n"
     ]
    }
   ],
   "source": [
    "# We will want to try this on the linkedlist pages with no html also, might reduce the work we need to do\n",
    "print(soup.get_text())"
   ]
  },
  {
   "cell_type": "markdown",
   "metadata": {},
   "source": [
    "*So taking pure html content and asking for text is not too useful*"
   ]
  },
  {
   "cell_type": "code",
   "execution_count": 52,
   "metadata": {
    "collapsed": false
   },
   "outputs": [
    {
     "data": {
      "text/plain": [
       "[<a href=\"linkedlist.php?nothing=12345\"><img border=\"0\" src=\"chainsaw.jpg\"/></a>,\n",
       " <a href=\"http://wiki.pythonchallenge.com/\"></a>]"
      ]
     },
     "execution_count": 52,
     "metadata": {},
     "output_type": "execute_result"
    }
   ],
   "source": [
    "# finds in html content all things associated with anchor tags, <a ...>, which contain links or href's\n",
    "soup.find_all(\"a\")"
   ]
  },
  {
   "cell_type": "code",
   "execution_count": 53,
   "metadata": {
    "collapsed": false
   },
   "outputs": [
    {
     "data": {
      "text/plain": [
       "[<center>\n",
       " <a href=\"linkedlist.php?nothing=12345\"><img border=\"0\" src=\"chainsaw.jpg\"/></a>\n",
       " <br/><br/><font color=\"gold\"></font></center>]"
      ]
     },
     "execution_count": 53,
     "metadata": {},
     "output_type": "execute_result"
    }
   ],
   "source": [
    "# finds in html content all things associated with center tags, </center ...>, which contain links or href's\n",
    "soup.find_all(\"center\")"
   ]
  },
  {
   "cell_type": "code",
   "execution_count": 54,
   "metadata": {
    "collapsed": false
   },
   "outputs": [
    {
     "name": "stdout",
     "output_type": "stream",
     "text": [
      "12345 1\n"
     ]
    }
   ],
   "source": [
    "j = soup.find_all(\"center\")\n",
    "\n",
    "# This is a long way to turn a list into a string\n",
    "# Would have been easier to do k = str(j)[1:-1]. The indexing would remove the square brackets at ends \n",
    "# Note: \"\".join() does not work here, not sure why\n",
    "k = ''\n",
    "for c in j:\n",
    "    k = k + str(c)\n",
    "\n",
    "# Split list into string by > symbol, present at end of tagged region (<a text and links > or <center> or </a>)\n",
    "l = k.split(\">\")\n",
    "\n",
    "# Use regular expressions to find any sequence of numbers from the text within html <content> tag\n",
    "# This should work for anything else though, but will need to tailor the regex as it only finds strings of numbers\n",
    "m = ''\n",
    "n = []\n",
    "import re\n",
    "for i in l:\n",
    "    if re.findall(r'\\d+', i) and int(\"\".join(re.findall(r'\\d+', i))) > 1:\n",
    "        m = \"\".join(re.findall(r'\\d+', i))\n",
    "        n.append(\"\".join(re.findall(r'\\d+', i)))\n",
    "\n",
    "# Here we check if the regex returned \n",
    "# Also check if returned more than one hit, only matches with more than 1 digit will go to list (so no ['0'])\n",
    "print(m, len(n))"
   ]
  },
  {
   "cell_type": "code",
   "execution_count": 55,
   "metadata": {
    "collapsed": false
   },
   "outputs": [],
   "source": [
    "# import re\n",
    "# re.findall() takes a string and outputs a list of matches. digitfinder takes an html_list\n",
    "def digitfinder(html_list):\n",
    "    emptystring = ''\n",
    "    for character in html_list:\n",
    "        emptystring = emptystring + str(character)\n",
    "    splitlist = emptystring.split(\">\")\n",
    "    anotherstring = ''\n",
    "    emptylist = []\n",
    "    for i in l:\n",
    "        if re.findall(r'\\d+', i) and int(\"\".join(re.findall(r'\\d+', i))) > 1:\n",
    "            anotherstring = \"\".join(re.findall(r'\\d+', i))\n",
    "            emptylist.append(\"\".join(re.findall(r'\\d+', i)))\n",
    "    print(anotherstring, len(emptylist))\n",
    "    return anotherstring, emptylist"
   ]
  },
  {
   "cell_type": "code",
   "execution_count": 63,
   "metadata": {
    "collapsed": false
   },
   "outputs": [
    {
     "name": "stdout",
     "output_type": "stream",
     "text": [
      "12345 1\n"
     ]
    },
    {
     "data": {
      "text/plain": [
       "('12345', ['12345'])"
      ]
     },
     "execution_count": 63,
     "metadata": {},
     "output_type": "execute_result"
    }
   ],
   "source": [
    "# j is all the html content from the tag <center>, from the url ~/linkedlist.php\n",
    "# j = soup.find_all(\"center\")\n",
    "digitfinder(j)"
   ]
  },
  {
   "cell_type": "markdown",
   "metadata": {},
   "source": [
    "Now we need to try one of the linked pages that dont have html"
   ]
  },
  {
   "cell_type": "code",
   "execution_count": 57,
   "metadata": {
    "collapsed": false
   },
   "outputs": [
    {
     "data": {
      "text/plain": [
       "'<html>\\n <body>\\n  <p>\\n   and the next nothing is 44827\\n  </p>\\n </body>\\n</html>'"
      ]
     },
     "execution_count": 57,
     "metadata": {},
     "output_type": "execute_result"
    }
   ],
   "source": [
    "import requests\n",
    "from bs4 import BeautifulSoup\n",
    "r1 = requests.get(\"http://www.pythonchallenge.com/pc/def/linkedlist.php?nothing=12345\")\n",
    "soup1 = BeautifulSoup(r1.content)\n",
    "soup1.prettify()"
   ]
  },
  {
   "cell_type": "code",
   "execution_count": 59,
   "metadata": {
    "collapsed": false
   },
   "outputs": [
    {
     "name": "stdout",
     "output_type": "stream",
     "text": [
      "and the next nothing is 44827\n"
     ]
    }
   ],
   "source": [
    "# If this outputs a string we are in luck\n",
    "# soup1 content isnt really html, so we dont have same problems as earlier with soup.get_text()\n",
    "print(soup1.get_text())"
   ]
  },
  {
   "cell_type": "code",
   "execution_count": 60,
   "metadata": {
    "collapsed": false
   },
   "outputs": [
    {
     "data": {
      "text/plain": [
       "str"
      ]
     },
     "execution_count": 60,
     "metadata": {},
     "output_type": "execute_result"
    }
   ],
   "source": [
    "type(soup1.get_text())"
   ]
  },
  {
   "cell_type": "code",
   "execution_count": 72,
   "metadata": {
    "collapsed": false
   },
   "outputs": [
    {
     "data": {
      "text/plain": [
       "29"
      ]
     },
     "execution_count": 72,
     "metadata": {},
     "output_type": "execute_result"
    }
   ],
   "source": [
    "len(soup1.get_text())"
   ]
  },
  {
   "cell_type": "code",
   "execution_count": 62,
   "metadata": {
    "collapsed": false
   },
   "outputs": [
    {
     "data": {
      "text/plain": [
       "['44827']"
      ]
     },
     "execution_count": 62,
     "metadata": {},
     "output_type": "execute_result"
    }
   ],
   "source": [
    "# lets try a regex\n",
    "p = re.findall(r'\\d+', soup1.get_text())\n",
    "p"
   ]
  },
  {
   "cell_type": "code",
   "execution_count": 64,
   "metadata": {
    "collapsed": false
   },
   "outputs": [],
   "source": [
    "def digittaker(request_string):\n",
    "    # if we get a non-empty match, and if the match is not the '0', return the match as a string\n",
    "    if re.findall(r'\\d+', request_string) and int(\"\".join(re.findall(r'\\d+', request_string))) > 1:\n",
    "        return \"\".join(re.findall(r'\\d+', request_string))"
   ]
  },
  {
   "cell_type": "code",
   "execution_count": 65,
   "metadata": {
    "collapsed": false
   },
   "outputs": [
    {
     "data": {
      "text/plain": [
       "'44827'"
      ]
     },
     "execution_count": 65,
     "metadata": {},
     "output_type": "execute_result"
    }
   ],
   "source": [
    "digittaker(soup1.get_text())"
   ]
  },
  {
   "cell_type": "markdown",
   "metadata": {},
   "source": [
    "So our problem is as follows:\n",
    "    \n",
    "    1. Provide a url (string formatting)\n",
    "    \n",
    "    2. Do a get request for the source contents of said url\n",
    "    \n",
    "    3. Extract the number sequence that directs to the next url\n",
    "    \n",
    "    4. Append that number sequence onto a string (string formatting)\n",
    "    \n",
    "    5. Use new string as url \n",
    "    \n",
    "    6. Repeat    ***this will need a try except statement since this should eventualy get us to something*** "
   ]
  },
  {
   "cell_type": "code",
   "execution_count": 69,
   "metadata": {
    "collapsed": false
   },
   "outputs": [
    {
     "data": {
      "text/plain": [
       "'http://www.pythonchallenge.com/pc/def/linkedlist.php?nothing=12345'"
      ]
     },
     "execution_count": 69,
     "metadata": {},
     "output_type": "execute_result"
    }
   ],
   "source": [
    "# Step 1\n",
    "\n",
    "# We will want to update a string with a variable, so string formatting it is\n",
    "digits = '12345'\n",
    "\n",
    "# When we update digits, we update the url, and send it as a raw string\n",
    "changing_url = 'http://www.pythonchallenge.com/pc/def/linkedlist.php?nothing={0}'.format(digits)\n",
    "current_url = r'{0}'.format(changing_url)\n",
    "\n",
    "# TEST Step 1\n",
    "current_url"
   ]
  },
  {
   "cell_type": "code",
   "execution_count": 73,
   "metadata": {
    "collapsed": false
   },
   "outputs": [
    {
     "data": {
      "text/plain": [
       "'44827'"
      ]
     },
     "execution_count": 73,
     "metadata": {},
     "output_type": "execute_result"
    }
   ],
   "source": [
    "# Step 2\n",
    "\n",
    "changing_request = requests.get(current_url)\n",
    "changing_soup = BeautifulSoup(changing_request.content)\n",
    "current_string = changing_soup.get_text()\n",
    "\n",
    "# Step 3\n",
    "\n",
    "changing_digits = digittaker(current_string)\n",
    "\n",
    "# Step 4\n",
    "\n",
    "digits = changing_digits\n",
    "\n",
    "# TEST Steps 2-4\n",
    "digits"
   ]
  },
  {
   "cell_type": "markdown",
   "metadata": {},
   "source": [
    "Now we need to generate a loop that:\n",
    "    1. takes the output of steps 2-4 as the value for step 5 \n",
    "    \n",
    "    2. loops it back to step 1 (step 6)\n",
    "    \n",
    "    3. which should push into steps 2-5\n",
    "    \n",
    "    4. and repeat (step 6)"
   ]
  },
  {
   "cell_type": "code",
   "execution_count": 83,
   "metadata": {
    "collapsed": false
   },
   "outputs": [],
   "source": [
    "# Step 6 ---make a loop---do we need a function---we dont want recursion if this goes above 997 the current limit---\n",
    "\n",
    "# We will want to update a string with a variable, so string formatting it is\n",
    "\n",
    "def theupdater(numbers):\n",
    "    running_list = []\n",
    "# Step 1\n",
    "\n",
    "    changing_url = 'http://www.pythonchallenge.com/pc/def/linkedlist.php?nothing={0}'.format(numbers)\n",
    "    current_url = r'{0}'.format(changing_url)\n",
    "\n",
    "# Step 2\n",
    "\n",
    "    changing_request = requests.get(current_url)\n",
    "    changing_soup = BeautifulSoup(changing_request.content)\n",
    "    current_string = changing_soup.get_text()\n",
    "    # debug test\n",
    "    print(current_string, len(current_string))\n",
    "    \n",
    "    if len(current_string) > 70:\n",
    "        return current_url, running_list\n",
    "    \n",
    "    else:\n",
    "        # Step 3\n",
    "        \n",
    "        changing_digits = digittaker(current_string)\n",
    "        running_list.append(changing_digits)\n",
    "        # debug test\n",
    "        print(changing_digits)\n",
    "        \n",
    "        # Step 4\n",
    "    \n",
    "        return theupdater(changing_digits) "
   ]
  },
  {
   "cell_type": "markdown",
   "metadata": {},
   "source": [
    "<b>*Don't run the function calls below!!!!!*</b>"
   ]
  },
  {
   "cell_type": "markdown",
   "metadata": {},
   "source": [
    "I get the following error each call, but only after hundreds of processed requests (~900, added print debug statements in function):\n",
    "    \n",
    "    $ theupdater(digits)\n",
    "    \n",
    "    > RuntimeError: maximum recursion depth exceeded in comparison\n",
    "    \n",
    "See excerpt from the full error below"
   ]
  },
  {
   "cell_type": "markdown",
   "metadata": {},
   "source": [
    "<b>$ theupdater(digits)</b>\n",
    "\n",
    "\n",
    "    and the next nothing is 45439 29\n",
    "    45439\n",
    "    Your hands are getting tired and the next nothing is 94485 58\n",
    "    94485\n",
    "    .\n",
    "    .\n",
    "    .\n",
    "    and the next nothing is 72198 29\n",
    "    72198\n",
    "    and the next nothing is 80992 29\n",
    "    80992\n",
    "    and the next nothing is 75635 29\n",
    "    75635\n",
    "    and the next nothing is 52899 29\n",
    "    52899\n",
    "    and the next nothing is 66831 29\n",
    "    66831\n",
    "    peak.html 9\n",
    "    None\n",
    "    and the next nothing is 6711 28\n",
    "    6711\n",
    "    and the next nothing is 2795 28\n",
    "    2795\n",
    "    .\n",
    "    .\n",
    "    .\n",
    "    and the next nothing is 28779 29\n",
    "    28779\n",
    "\n",
    "    C:\\Anaconda3\\lib\\_weakrefset.py in __contains__(self, item)\n",
    "         73         except TypeError:\n",
    "         74             return False\n",
    "    ---> 75         return wr in self.data\n",
    "         76 \n",
    "         77     def __reduce__(self):\n",
    "\n",
    "    RuntimeError: maximum recursion depth exceeded in comparison"
   ]
  },
  {
   "cell_type": "markdown",
   "metadata": {},
   "source": [
    "I also ran the function several times with the last number before the error, which I called *max_recursion_depth*.\n",
    "    \n",
    "    \n",
    "    max_recursion_depth = '28779'\n",
    "    \n",
    "    or\n",
    "    \n",
    "    max_recursion_depth = '93781'\n",
    "    \n",
    "Both resulted in the same RunetimeError due to recursion limit of python    "
   ]
  },
  {
   "cell_type": "markdown",
   "metadata": {},
   "source": [
    "##### <b>*HOWEVER...*</b>"
   ]
  },
  {
   "cell_type": "markdown",
   "metadata": {},
   "source": [
    "Going through text of the print statements I found something interesting, a repeating pattern every few hundred requests...\n",
    "    \n",
    "    and the next nothing is 52899 29\n",
    "    52899\n",
    "    and the next nothing is 66831 29\n",
    "    66831\n",
    "    peak.html 9\n",
    "    None\n",
    "    and the next nothing is 6711 28\n",
    "    6711\n",
    "    .\n",
    "    .\n",
    "    .\n",
    "    and the next nothing is 52899 29\n",
    "    52899\n",
    "    and the next nothing is 66831 29\n",
    "    66831\n",
    "    peak.html 9\n",
    "    None\n",
    "    and the next nothing is 6711 28\n",
    "    6711\n",
    "    .\n",
    "    .\n",
    "    .\n",
    "    and the next nothing is 52899 29\n",
    "    52899\n",
    "    and the next nothing is 66831 29\n",
    "    66831\n",
    "    peak.html 9\n",
    "    None\n",
    "    and the next nothing is 6711 28\n",
    "    6711\n",
    "\n",
    "\n",
    "<b>*ITS A LOOP!!!!!!!!!!!*</b>\n",
    "-----------------------------"
   ]
  },
  {
   "cell_type": "markdown",
   "metadata": {},
   "source": [
    "Going to:\n",
    "    \n",
    "    http://www.pythonchallenge.com/pc/def/linkedlist.php?nothing=66831\n",
    "        \n",
    "We get the following source encoding:\n",
    "    \n",
    "    peak.html\n",
    "    \n",
    "So following the solutions in the other challenges I tried:\n",
    "    \n",
    "    http://www.pythonchallenge.com/pc/def/peak.html\n",
    "        \n",
    "        \n",
    "<b>*SUCCESS!!!!!!!!*</b>\n",
    "------------------------\n",
    "\n",
    "\n",
    "To see the solutions to the previous level, replace pc with pcc, i.e. go to: http://www.pythonchallenge.com/pcc/def/peak.html"
   ]
  },
  {
   "cell_type": "markdown",
   "metadata": {},
   "source": [
    "# Python Challenge #5"
   ]
  },
  {
   "cell_type": "markdown",
   "metadata": {},
   "source": [
    "We see a picture with peak and a hill with text underneath:\n",
    "    \n",
    "    'pronounce it'"
   ]
  },
  {
   "cell_type": "markdown",
   "metadata": {},
   "source": [
    "Viewing the full source:"
   ]
  },
  {
   "cell_type": "markdown",
   "metadata": {},
   "source": [
    "    <html>\n",
    "    <head>\n",
    "      <title>peak hell</title>\n",
    "      <link rel=\"stylesheet\" type=\"text/css\" href=\"../style.css\">\n",
    "    </head>\n",
    "    <body>\n",
    "    <center>\n",
    "    <img src=\"peakhell.jpg\"/>\n",
    "    <br><font color=\"#c0c0ff\">\n",
    "    pronounce it\n",
    "    <br>\n",
    "    <peakhell src=\"banner.p\"/>\n",
    "    </body>\n",
    "    </html>\n",
    "\n",
    "    <!-- peak hell sounds familiar ? -->"
   ]
  },
  {
   "cell_type": "markdown",
   "metadata": {},
   "source": [
    "So, what is this peakhell tag?\n",
    "\n",
    "    <peakhell src=\"banner.p\"/>\n",
    "    \n",
    "On the source page, it is clearly a ref that links to a file.\n",
    "\n",
    "    Turns out the .p file extension can be used in python to encode a module file contents into a byte stream\n",
    "\n",
    "And this represents a common practice:\n",
    "    \n",
    "    The standard lib module Pickle is used for persistent storage of python objects, encoded as byte strings"
   ]
  },
  {
   "cell_type": "markdown",
   "metadata": {},
   "source": [
    "So lets try to unpickle the contents..."
   ]
  },
  {
   "cell_type": "code",
   "execution_count": 13,
   "metadata": {
    "collapsed": false
   },
   "outputs": [],
   "source": [
    "import pickle\n",
    "import urllib.request"
   ]
  },
  {
   "cell_type": "code",
   "execution_count": 98,
   "metadata": {
    "collapsed": false
   },
   "outputs": [
    {
     "data": {
      "text/plain": [
       "[[(' ', 95)],\n",
       " [(' ', 14), ('#', 5), (' ', 70), ('#', 5), (' ', 1)],\n",
       " [(' ', 15), ('#', 4), (' ', 71), ('#', 4), (' ', 1)],\n",
       " [(' ', 15), ('#', 4), (' ', 71), ('#', 4), (' ', 1)],\n",
       " [(' ', 15), ('#', 4), (' ', 71), ('#', 4), (' ', 1)],\n",
       " [(' ', 15), ('#', 4), (' ', 71), ('#', 4), (' ', 1)],\n",
       " [(' ', 15), ('#', 4), (' ', 71), ('#', 4), (' ', 1)],\n",
       " [(' ', 15), ('#', 4), (' ', 71), ('#', 4), (' ', 1)],\n",
       " [(' ', 15), ('#', 4), (' ', 71), ('#', 4), (' ', 1)],\n",
       " [(' ', 6),\n",
       "  ('#', 3),\n",
       "  (' ', 6),\n",
       "  ('#', 4),\n",
       "  (' ', 3),\n",
       "  ('#', 3),\n",
       "  (' ', 9),\n",
       "  ('#', 3),\n",
       "  (' ', 7),\n",
       "  ('#', 5),\n",
       "  (' ', 3),\n",
       "  ('#', 3),\n",
       "  (' ', 4),\n",
       "  ('#', 5),\n",
       "  (' ', 3),\n",
       "  ('#', 3),\n",
       "  (' ', 10),\n",
       "  ('#', 3),\n",
       "  (' ', 7),\n",
       "  ('#', 4),\n",
       "  (' ', 1)],\n",
       " [(' ', 3),\n",
       "  ('#', 3),\n",
       "  (' ', 3),\n",
       "  ('#', 2),\n",
       "  (' ', 4),\n",
       "  ('#', 4),\n",
       "  (' ', 1),\n",
       "  ('#', 7),\n",
       "  (' ', 5),\n",
       "  ('#', 2),\n",
       "  (' ', 2),\n",
       "  ('#', 3),\n",
       "  (' ', 6),\n",
       "  ('#', 4),\n",
       "  (' ', 1),\n",
       "  ('#', 7),\n",
       "  (' ', 3),\n",
       "  ('#', 4),\n",
       "  (' ', 1),\n",
       "  ('#', 7),\n",
       "  (' ', 5),\n",
       "  ('#', 3),\n",
       "  (' ', 2),\n",
       "  ('#', 3),\n",
       "  (' ', 5),\n",
       "  ('#', 4),\n",
       "  (' ', 1)],\n",
       " [(' ', 2),\n",
       "  ('#', 3),\n",
       "  (' ', 5),\n",
       "  ('#', 3),\n",
       "  (' ', 2),\n",
       "  ('#', 5),\n",
       "  (' ', 4),\n",
       "  ('#', 4),\n",
       "  (' ', 3),\n",
       "  ('#', 3),\n",
       "  (' ', 3),\n",
       "  ('#', 4),\n",
       "  (' ', 4),\n",
       "  ('#', 5),\n",
       "  (' ', 4),\n",
       "  ('#', 4),\n",
       "  (' ', 2),\n",
       "  ('#', 5),\n",
       "  (' ', 4),\n",
       "  ('#', 4),\n",
       "  (' ', 3),\n",
       "  ('#', 3),\n",
       "  (' ', 5),\n",
       "  ('#', 3),\n",
       "  (' ', 3),\n",
       "  ('#', 4),\n",
       "  (' ', 1)],\n",
       " [(' ', 1),\n",
       "  ('#', 3),\n",
       "  (' ', 11),\n",
       "  ('#', 4),\n",
       "  (' ', 5),\n",
       "  ('#', 4),\n",
       "  (' ', 3),\n",
       "  ('#', 3),\n",
       "  (' ', 4),\n",
       "  ('#', 3),\n",
       "  (' ', 4),\n",
       "  ('#', 4),\n",
       "  (' ', 5),\n",
       "  ('#', 4),\n",
       "  (' ', 2),\n",
       "  ('#', 4),\n",
       "  (' ', 5),\n",
       "  ('#', 4),\n",
       "  (' ', 2),\n",
       "  ('#', 3),\n",
       "  (' ', 6),\n",
       "  ('#', 4),\n",
       "  (' ', 2),\n",
       "  ('#', 4),\n",
       "  (' ', 1)],\n",
       " [(' ', 1),\n",
       "  ('#', 3),\n",
       "  (' ', 11),\n",
       "  ('#', 4),\n",
       "  (' ', 5),\n",
       "  ('#', 4),\n",
       "  (' ', 10),\n",
       "  ('#', 3),\n",
       "  (' ', 4),\n",
       "  ('#', 4),\n",
       "  (' ', 5),\n",
       "  ('#', 4),\n",
       "  (' ', 2),\n",
       "  ('#', 4),\n",
       "  (' ', 5),\n",
       "  ('#', 4),\n",
       "  (' ', 2),\n",
       "  ('#', 3),\n",
       "  (' ', 7),\n",
       "  ('#', 3),\n",
       "  (' ', 2),\n",
       "  ('#', 4),\n",
       "  (' ', 1)],\n",
       " [('#', 4),\n",
       "  (' ', 11),\n",
       "  ('#', 4),\n",
       "  (' ', 5),\n",
       "  ('#', 4),\n",
       "  (' ', 5),\n",
       "  ('#', 2),\n",
       "  (' ', 3),\n",
       "  ('#', 3),\n",
       "  (' ', 4),\n",
       "  ('#', 4),\n",
       "  (' ', 5),\n",
       "  ('#', 4),\n",
       "  (' ', 2),\n",
       "  ('#', 4),\n",
       "  (' ', 5),\n",
       "  ('#', 4),\n",
       "  (' ', 1),\n",
       "  ('#', 4),\n",
       "  (' ', 7),\n",
       "  ('#', 3),\n",
       "  (' ', 2),\n",
       "  ('#', 4),\n",
       "  (' ', 1)],\n",
       " [('#', 4),\n",
       "  (' ', 11),\n",
       "  ('#', 4),\n",
       "  (' ', 5),\n",
       "  ('#', 4),\n",
       "  (' ', 3),\n",
       "  ('#', 10),\n",
       "  (' ', 4),\n",
       "  ('#', 4),\n",
       "  (' ', 5),\n",
       "  ('#', 4),\n",
       "  (' ', 2),\n",
       "  ('#', 4),\n",
       "  (' ', 5),\n",
       "  ('#', 4),\n",
       "  (' ', 1),\n",
       "  ('#', 14),\n",
       "  (' ', 2),\n",
       "  ('#', 4),\n",
       "  (' ', 1)],\n",
       " [('#', 4),\n",
       "  (' ', 11),\n",
       "  ('#', 4),\n",
       "  (' ', 5),\n",
       "  ('#', 4),\n",
       "  (' ', 2),\n",
       "  ('#', 3),\n",
       "  (' ', 4),\n",
       "  ('#', 4),\n",
       "  (' ', 4),\n",
       "  ('#', 4),\n",
       "  (' ', 5),\n",
       "  ('#', 4),\n",
       "  (' ', 2),\n",
       "  ('#', 4),\n",
       "  (' ', 5),\n",
       "  ('#', 4),\n",
       "  (' ', 1),\n",
       "  ('#', 4),\n",
       "  (' ', 12),\n",
       "  ('#', 4),\n",
       "  (' ', 1)],\n",
       " [('#', 4),\n",
       "  (' ', 11),\n",
       "  ('#', 4),\n",
       "  (' ', 5),\n",
       "  ('#', 4),\n",
       "  (' ', 1),\n",
       "  ('#', 4),\n",
       "  (' ', 5),\n",
       "  ('#', 3),\n",
       "  (' ', 4),\n",
       "  ('#', 4),\n",
       "  (' ', 5),\n",
       "  ('#', 4),\n",
       "  (' ', 2),\n",
       "  ('#', 4),\n",
       "  (' ', 5),\n",
       "  ('#', 4),\n",
       "  (' ', 1),\n",
       "  ('#', 4),\n",
       "  (' ', 12),\n",
       "  ('#', 4),\n",
       "  (' ', 1)],\n",
       " [(' ', 1),\n",
       "  ('#', 3),\n",
       "  (' ', 11),\n",
       "  ('#', 4),\n",
       "  (' ', 5),\n",
       "  ('#', 4),\n",
       "  (' ', 1),\n",
       "  ('#', 4),\n",
       "  (' ', 5),\n",
       "  ('#', 3),\n",
       "  (' ', 4),\n",
       "  ('#', 4),\n",
       "  (' ', 5),\n",
       "  ('#', 4),\n",
       "  (' ', 2),\n",
       "  ('#', 4),\n",
       "  (' ', 5),\n",
       "  ('#', 4),\n",
       "  (' ', 2),\n",
       "  ('#', 3),\n",
       "  (' ', 12),\n",
       "  ('#', 4),\n",
       "  (' ', 1)],\n",
       " [(' ', 2),\n",
       "  ('#', 3),\n",
       "  (' ', 6),\n",
       "  ('#', 2),\n",
       "  (' ', 2),\n",
       "  ('#', 4),\n",
       "  (' ', 5),\n",
       "  ('#', 4),\n",
       "  (' ', 2),\n",
       "  ('#', 3),\n",
       "  (' ', 4),\n",
       "  ('#', 4),\n",
       "  (' ', 4),\n",
       "  ('#', 4),\n",
       "  (' ', 5),\n",
       "  ('#', 4),\n",
       "  (' ', 2),\n",
       "  ('#', 4),\n",
       "  (' ', 5),\n",
       "  ('#', 4),\n",
       "  (' ', 3),\n",
       "  ('#', 3),\n",
       "  (' ', 6),\n",
       "  ('#', 2),\n",
       "  (' ', 3),\n",
       "  ('#', 4),\n",
       "  (' ', 1)],\n",
       " [(' ', 3),\n",
       "  ('#', 3),\n",
       "  (' ', 4),\n",
       "  ('#', 2),\n",
       "  (' ', 3),\n",
       "  ('#', 4),\n",
       "  (' ', 5),\n",
       "  ('#', 4),\n",
       "  (' ', 3),\n",
       "  ('#', 11),\n",
       "  (' ', 3),\n",
       "  ('#', 4),\n",
       "  (' ', 5),\n",
       "  ('#', 4),\n",
       "  (' ', 2),\n",
       "  ('#', 4),\n",
       "  (' ', 5),\n",
       "  ('#', 4),\n",
       "  (' ', 4),\n",
       "  ('#', 3),\n",
       "  (' ', 4),\n",
       "  ('#', 2),\n",
       "  (' ', 4),\n",
       "  ('#', 4),\n",
       "  (' ', 1)],\n",
       " [(' ', 6),\n",
       "  ('#', 3),\n",
       "  (' ', 5),\n",
       "  ('#', 6),\n",
       "  (' ', 4),\n",
       "  ('#', 5),\n",
       "  (' ', 4),\n",
       "  ('#', 2),\n",
       "  (' ', 4),\n",
       "  ('#', 4),\n",
       "  (' ', 1),\n",
       "  ('#', 6),\n",
       "  (' ', 4),\n",
       "  ('#', 11),\n",
       "  (' ', 4),\n",
       "  ('#', 5),\n",
       "  (' ', 6),\n",
       "  ('#', 3),\n",
       "  (' ', 6),\n",
       "  ('#', 6)],\n",
       " [(' ', 95)]]"
      ]
     },
     "execution_count": 98,
     "metadata": {},
     "output_type": "execute_result"
    }
   ],
   "source": [
    "# retrieve my pickled file\n",
    "pickledfile = urllib.request.urlopen('http://www.pythonchallenge.com/pc/def/banner.p')\n",
    "\n",
    "# unpickle the mystery file\n",
    "# this method automatically determines the encoding\n",
    "mystery_unpickled_file = pickle.load(pickledfile)\n",
    "\n",
    "# view the contents\n",
    "mystery_unpickled_file"
   ]
  },
  {
   "cell_type": "code",
   "execution_count": 101,
   "metadata": {
    "collapsed": false
   },
   "outputs": [],
   "source": [
    "# There is no difference if i download the file and unpickle with open and 'rb', so lets work with the requests file \n",
    "\n",
    "# pickle.load(open(r'C:/Users/Rafael/Pybio/Python Challenge/banner.p', 'rb'))"
   ]
  },
  {
   "cell_type": "markdown",
   "metadata": {},
   "source": [
    "Pickled files are represented as byte strings. This list is just a list with each element encoded as a byte string."
   ]
  },
  {
   "cell_type": "markdown",
   "metadata": {},
   "source": [
    "We can decode it in two ways:\n",
    "    \n",
    "    We can iterate through each element with a for loop and convert bytes into ASCII characters or utf-8\n",
    "    \n",
    "        for element in mystery_unpickled_file:\n",
    "            for item in element:\n",
    "                chr(item)\n",
    "                unichr(item)\n",
    "        \n",
    "    \n",
    "    or (BUT WE WONT YET)\n",
    "    \n",
    "    We can use a functional approach with list comprehensions\n",
    "    Here we use map to iterate through each element in the list, and convert each byte string in each element into ASCII character\n",
    "    \n",
    "    Since we need to add different types of objects inside a tuple, we need to use the add function from the operator module\n",
    "\n",
    "        from operator import add\n",
    "        \n",
    "    reduce is in functools so we need to import that too   \n",
    "    \n",
    "        reduce(add, iterable sequence object containing multipe object types)\n",
    "    \n",
    "    Finally, we store the results into a new list, which should be readable now\n",
    "    \n",
    "        [\"\".join(map(chr, reduce(add, item))) for element in mystery_unpickled_file for item in element] \n",
    "        \n",
    "    note this should run like shit, and will throw errors with tuples like ('#', '5'), which dont work with chr()\n",
    "    \n",
    "    so we can't use it until we find a way to deal with that case"
   ]
  },
  {
   "cell_type": "code",
   "execution_count": 70,
   "metadata": {
    "collapsed": false
   },
   "outputs": [
    {
     "data": {
      "text/plain": [
       "[[(' ', 95)], [(' ', 14), ('#', 5), (' ', 70), ('#', 5), (' ', 1)]]"
      ]
     },
     "execution_count": 70,
     "metadata": {},
     "output_type": "execute_result"
    }
   ],
   "source": [
    "from functools import reduce\n",
    "from operator import add\n",
    "\n",
    "# lets make a test case to figure out how to deal with ('#', 5) or sequences with multiple tuples\n",
    "    \n",
    "unveiled_test = mystery_unpickled_file[0:2]\n",
    "unveiled_test"
   ]
  },
  {
   "cell_type": "code",
   "execution_count": 83,
   "metadata": {
    "collapsed": false
   },
   "outputs": [
    {
     "name": "stdout",
     "output_type": "stream",
     "text": [
      "95\n",
      "14\n",
      "70\n",
      "1\n"
     ]
    },
    {
     "data": {
      "text/plain": [
       "[95, 14, 70, 1]"
      ]
     },
     "execution_count": 83,
     "metadata": {},
     "output_type": "execute_result"
    }
   ],
   "source": [
    "# We are going to debug the problem one part at a time\n",
    "# Lets see what is called each time we look at an item\n",
    "\n",
    "test_results = []\n",
    "for element in unveiled_test:\n",
    "    for item in element:\n",
    "        if item[0] == ' ':\n",
    "            print(item[1])\n",
    "            test_results.append(item[1])\n",
    "test_results"
   ]
  },
  {
   "cell_type": "code",
   "execution_count": 87,
   "metadata": {
    "collapsed": false
   },
   "outputs": [
    {
     "name": "stdout",
     "output_type": "stream",
     "text": [
      "_\n",
      "\u000e\n",
      "F\n",
      "\u0001\n"
     ]
    },
    {
     "data": {
      "text/plain": [
       "['_', '\\x0e', 'F', '\\x01']"
      ]
     },
     "execution_count": 87,
     "metadata": {},
     "output_type": "execute_result"
    }
   ],
   "source": [
    "# So for element[1], printing and chr() do not give same results, guessing this is a quirk of byte strings\n",
    "\n",
    "test_results = []\n",
    "for element in unveiled_test:\n",
    "    for item in element:\n",
    "        if item[0] == ' ':\n",
    "            print(chr(item[1]))\n",
    "            test_results.append(chr(item[1]))\n",
    "            \n",
    "test_results            "
   ]
  },
  {
   "cell_type": "code",
   "execution_count": 102,
   "metadata": {
    "collapsed": false
   },
   "outputs": [
    {
     "name": "stdout",
     "output_type": "stream",
     "text": [
      "# 5\n"
     ]
    },
    {
     "ename": "TypeError",
     "evalue": "an integer is required (got type str)",
     "output_type": "error",
     "traceback": [
      "\u001b[1;31m---------------------------------------------------------------------------\u001b[0m\n\u001b[1;31mTypeError\u001b[0m                                 Traceback (most recent call last)",
      "\u001b[1;32m<ipython-input-102-0d049662eef9>\u001b[0m in \u001b[0;36m<module>\u001b[1;34m()\u001b[0m\n\u001b[0;32m      7\u001b[0m         \u001b[1;32mif\u001b[0m \u001b[0mitem\u001b[0m\u001b[1;33m[\u001b[0m\u001b[1;36m0\u001b[0m\u001b[1;33m]\u001b[0m \u001b[1;33m!=\u001b[0m \u001b[1;34m' '\u001b[0m\u001b[1;33m:\u001b[0m\u001b[1;33m\u001b[0m\u001b[0m\n\u001b[0;32m      8\u001b[0m             \u001b[0mprint\u001b[0m\u001b[1;33m(\u001b[0m\u001b[0mitem\u001b[0m\u001b[1;33m[\u001b[0m\u001b[1;36m0\u001b[0m\u001b[1;33m]\u001b[0m\u001b[1;33m,\u001b[0m \u001b[0mitem\u001b[0m\u001b[1;33m[\u001b[0m\u001b[1;36m1\u001b[0m\u001b[1;33m]\u001b[0m\u001b[1;33m)\u001b[0m\u001b[1;33m\u001b[0m\u001b[0m\n\u001b[1;32m----> 9\u001b[1;33m             \u001b[0mprint\u001b[0m\u001b[1;33m(\u001b[0m\u001b[0mchr\u001b[0m\u001b[1;33m(\u001b[0m\u001b[0mitem\u001b[0m\u001b[1;33m[\u001b[0m\u001b[1;36m0\u001b[0m\u001b[1;33m]\u001b[0m \u001b[1;33m+\u001b[0m \u001b[0mstr\u001b[0m\u001b[1;33m(\u001b[0m\u001b[0mitem\u001b[0m\u001b[1;33m[\u001b[0m\u001b[1;36m1\u001b[0m\u001b[1;33m]\u001b[0m\u001b[1;33m)\u001b[0m\u001b[1;33m)\u001b[0m\u001b[1;33m)\u001b[0m\u001b[1;33m\u001b[0m\u001b[0m\n\u001b[0m\u001b[0;32m     10\u001b[0m             \u001b[0mtest_results\u001b[0m\u001b[1;33m.\u001b[0m\u001b[0mappend\u001b[0m\u001b[1;33m(\u001b[0m\u001b[0mchr\u001b[0m\u001b[1;33m(\u001b[0m\u001b[0mitem\u001b[0m\u001b[1;33m[\u001b[0m\u001b[1;36m0\u001b[0m\u001b[1;33m]\u001b[0m \u001b[1;33m+\u001b[0m \u001b[0mstr\u001b[0m\u001b[1;33m(\u001b[0m\u001b[0mitem\u001b[0m\u001b[1;33m[\u001b[0m\u001b[1;36m1\u001b[0m\u001b[1;33m]\u001b[0m\u001b[1;33m)\u001b[0m\u001b[1;33m)\u001b[0m\u001b[1;33m)\u001b[0m\u001b[1;33m\u001b[0m\u001b[0m\n\u001b[0;32m     11\u001b[0m \u001b[1;33m\u001b[0m\u001b[0m\n",
      "\u001b[1;31mTypeError\u001b[0m: an integer is required (got type str)"
     ]
    }
   ],
   "source": [
    "# So iteration works differently than I thought, for element[1] in our example i thought we'd need a third level of nesting to work as is\n",
    "# We do however see problems with funny characters and chr\n",
    "\n",
    "test_results = []\n",
    "for element in unveiled_test:\n",
    "    for item in element:\n",
    "        if item[0] != ' ':\n",
    "            print(item[0], item[1])\n",
    "            print(chr(item[0] + str(item[1])))\n",
    "            test_results.append(chr(item[0] + str(item[1])))\n",
    "    \n",
    "test_results"
   ]
  },
  {
   "cell_type": "code",
   "execution_count": 104,
   "metadata": {
    "collapsed": false
   },
   "outputs": [
    {
     "data": {
      "text/plain": [
       "['_',\n",
       " '\\x0e',\n",
       " '\\x05',\n",
       " 'F',\n",
       " '\\x05',\n",
       " '\\x01',\n",
       " '\\x0f',\n",
       " '\\x04',\n",
       " 'G',\n",
       " '\\x04',\n",
       " '\\x01',\n",
       " '\\x0f',\n",
       " '\\x04',\n",
       " 'G',\n",
       " '\\x04',\n",
       " '\\x01',\n",
       " '\\x0f',\n",
       " '\\x04',\n",
       " 'G',\n",
       " '\\x04',\n",
       " '\\x01',\n",
       " '\\x0f',\n",
       " '\\x04',\n",
       " 'G',\n",
       " '\\x04',\n",
       " '\\x01',\n",
       " '\\x0f',\n",
       " '\\x04',\n",
       " 'G',\n",
       " '\\x04',\n",
       " '\\x01',\n",
       " '\\x0f',\n",
       " '\\x04',\n",
       " 'G',\n",
       " '\\x04',\n",
       " '\\x01',\n",
       " '\\x0f',\n",
       " '\\x04',\n",
       " 'G',\n",
       " '\\x04',\n",
       " '\\x01',\n",
       " '\\x06',\n",
       " '\\x03',\n",
       " '\\x06',\n",
       " '\\x04',\n",
       " '\\x03',\n",
       " '\\x03',\n",
       " '\\t',\n",
       " '\\x03',\n",
       " '\\x07',\n",
       " '\\x05',\n",
       " '\\x03',\n",
       " '\\x03',\n",
       " '\\x04',\n",
       " '\\x05',\n",
       " '\\x03',\n",
       " '\\x03',\n",
       " '\\n',\n",
       " '\\x03',\n",
       " '\\x07',\n",
       " '\\x04',\n",
       " '\\x01',\n",
       " '\\x03',\n",
       " '\\x03',\n",
       " '\\x03',\n",
       " '\\x02',\n",
       " '\\x04',\n",
       " '\\x04',\n",
       " '\\x01',\n",
       " '\\x07',\n",
       " '\\x05',\n",
       " '\\x02',\n",
       " '\\x02',\n",
       " '\\x03',\n",
       " '\\x06',\n",
       " '\\x04',\n",
       " '\\x01',\n",
       " '\\x07',\n",
       " '\\x03',\n",
       " '\\x04',\n",
       " '\\x01',\n",
       " '\\x07',\n",
       " '\\x05',\n",
       " '\\x03',\n",
       " '\\x02',\n",
       " '\\x03',\n",
       " '\\x05',\n",
       " '\\x04',\n",
       " '\\x01',\n",
       " '\\x02',\n",
       " '\\x03',\n",
       " '\\x05',\n",
       " '\\x03',\n",
       " '\\x02',\n",
       " '\\x05',\n",
       " '\\x04',\n",
       " '\\x04',\n",
       " '\\x03',\n",
       " '\\x03',\n",
       " '\\x03',\n",
       " '\\x04',\n",
       " '\\x04',\n",
       " '\\x05',\n",
       " '\\x04',\n",
       " '\\x04',\n",
       " '\\x02',\n",
       " '\\x05',\n",
       " '\\x04',\n",
       " '\\x04',\n",
       " '\\x03',\n",
       " '\\x03',\n",
       " '\\x05',\n",
       " '\\x03',\n",
       " '\\x03',\n",
       " '\\x04',\n",
       " '\\x01',\n",
       " '\\x01',\n",
       " '\\x03',\n",
       " '\\x0b',\n",
       " '\\x04',\n",
       " '\\x05',\n",
       " '\\x04',\n",
       " '\\x03',\n",
       " '\\x03',\n",
       " '\\x04',\n",
       " '\\x03',\n",
       " '\\x04',\n",
       " '\\x04',\n",
       " '\\x05',\n",
       " '\\x04',\n",
       " '\\x02',\n",
       " '\\x04',\n",
       " '\\x05',\n",
       " '\\x04',\n",
       " '\\x02',\n",
       " '\\x03',\n",
       " '\\x06',\n",
       " '\\x04',\n",
       " '\\x02',\n",
       " '\\x04',\n",
       " '\\x01',\n",
       " '\\x01',\n",
       " '\\x03',\n",
       " '\\x0b',\n",
       " '\\x04',\n",
       " '\\x05',\n",
       " '\\x04',\n",
       " '\\n',\n",
       " '\\x03',\n",
       " '\\x04',\n",
       " '\\x04',\n",
       " '\\x05',\n",
       " '\\x04',\n",
       " '\\x02',\n",
       " '\\x04',\n",
       " '\\x05',\n",
       " '\\x04',\n",
       " '\\x02',\n",
       " '\\x03',\n",
       " '\\x07',\n",
       " '\\x03',\n",
       " '\\x02',\n",
       " '\\x04',\n",
       " '\\x01',\n",
       " '\\x04',\n",
       " '\\x0b',\n",
       " '\\x04',\n",
       " '\\x05',\n",
       " '\\x04',\n",
       " '\\x05',\n",
       " '\\x02',\n",
       " '\\x03',\n",
       " '\\x03',\n",
       " '\\x04',\n",
       " '\\x04',\n",
       " '\\x05',\n",
       " '\\x04',\n",
       " '\\x02',\n",
       " '\\x04',\n",
       " '\\x05',\n",
       " '\\x04',\n",
       " '\\x01',\n",
       " '\\x04',\n",
       " '\\x07',\n",
       " '\\x03',\n",
       " '\\x02',\n",
       " '\\x04',\n",
       " '\\x01',\n",
       " '\\x04',\n",
       " '\\x0b',\n",
       " '\\x04',\n",
       " '\\x05',\n",
       " '\\x04',\n",
       " '\\x03',\n",
       " '\\n',\n",
       " '\\x04',\n",
       " '\\x04',\n",
       " '\\x05',\n",
       " '\\x04',\n",
       " '\\x02',\n",
       " '\\x04',\n",
       " '\\x05',\n",
       " '\\x04',\n",
       " '\\x01',\n",
       " '\\x0e',\n",
       " '\\x02',\n",
       " '\\x04',\n",
       " '\\x01',\n",
       " '\\x04',\n",
       " '\\x0b',\n",
       " '\\x04',\n",
       " '\\x05',\n",
       " '\\x04',\n",
       " '\\x02',\n",
       " '\\x03',\n",
       " '\\x04',\n",
       " '\\x04',\n",
       " '\\x04',\n",
       " '\\x04',\n",
       " '\\x05',\n",
       " '\\x04',\n",
       " '\\x02',\n",
       " '\\x04',\n",
       " '\\x05',\n",
       " '\\x04',\n",
       " '\\x01',\n",
       " '\\x04',\n",
       " '\\x0c',\n",
       " '\\x04',\n",
       " '\\x01',\n",
       " '\\x04',\n",
       " '\\x0b',\n",
       " '\\x04',\n",
       " '\\x05',\n",
       " '\\x04',\n",
       " '\\x01',\n",
       " '\\x04',\n",
       " '\\x05',\n",
       " '\\x03',\n",
       " '\\x04',\n",
       " '\\x04',\n",
       " '\\x05',\n",
       " '\\x04',\n",
       " '\\x02',\n",
       " '\\x04',\n",
       " '\\x05',\n",
       " '\\x04',\n",
       " '\\x01',\n",
       " '\\x04',\n",
       " '\\x0c',\n",
       " '\\x04',\n",
       " '\\x01',\n",
       " '\\x01',\n",
       " '\\x03',\n",
       " '\\x0b',\n",
       " '\\x04',\n",
       " '\\x05',\n",
       " '\\x04',\n",
       " '\\x01',\n",
       " '\\x04',\n",
       " '\\x05',\n",
       " '\\x03',\n",
       " '\\x04',\n",
       " '\\x04',\n",
       " '\\x05',\n",
       " '\\x04',\n",
       " '\\x02',\n",
       " '\\x04',\n",
       " '\\x05',\n",
       " '\\x04',\n",
       " '\\x02',\n",
       " '\\x03',\n",
       " '\\x0c',\n",
       " '\\x04',\n",
       " '\\x01',\n",
       " '\\x02',\n",
       " '\\x03',\n",
       " '\\x06',\n",
       " '\\x02',\n",
       " '\\x02',\n",
       " '\\x04',\n",
       " '\\x05',\n",
       " '\\x04',\n",
       " '\\x02',\n",
       " '\\x03',\n",
       " '\\x04',\n",
       " '\\x04',\n",
       " '\\x04',\n",
       " '\\x04',\n",
       " '\\x05',\n",
       " '\\x04',\n",
       " '\\x02',\n",
       " '\\x04',\n",
       " '\\x05',\n",
       " '\\x04',\n",
       " '\\x03',\n",
       " '\\x03',\n",
       " '\\x06',\n",
       " '\\x02',\n",
       " '\\x03',\n",
       " '\\x04',\n",
       " '\\x01',\n",
       " '\\x03',\n",
       " '\\x03',\n",
       " '\\x04',\n",
       " '\\x02',\n",
       " '\\x03',\n",
       " '\\x04',\n",
       " '\\x05',\n",
       " '\\x04',\n",
       " '\\x03',\n",
       " '\\x0b',\n",
       " '\\x03',\n",
       " '\\x04',\n",
       " '\\x05',\n",
       " '\\x04',\n",
       " '\\x02',\n",
       " '\\x04',\n",
       " '\\x05',\n",
       " '\\x04',\n",
       " '\\x04',\n",
       " '\\x03',\n",
       " '\\x04',\n",
       " '\\x02',\n",
       " '\\x04',\n",
       " '\\x04',\n",
       " '\\x01',\n",
       " '\\x06',\n",
       " '\\x03',\n",
       " '\\x05',\n",
       " '\\x06',\n",
       " '\\x04',\n",
       " '\\x05',\n",
       " '\\x04',\n",
       " '\\x02',\n",
       " '\\x04',\n",
       " '\\x04',\n",
       " '\\x01',\n",
       " '\\x06',\n",
       " '\\x04',\n",
       " '\\x0b',\n",
       " '\\x04',\n",
       " '\\x05',\n",
       " '\\x06',\n",
       " '\\x03',\n",
       " '\\x06',\n",
       " '\\x06',\n",
       " '_']"
      ]
     },
     "execution_count": 104,
     "metadata": {},
     "output_type": "execute_result"
    }
   ],
   "source": [
    "# Lets just try translating without the funny chars\n",
    "\n",
    "test_results = []\n",
    "for element in mystery_unpickled_file:\n",
    "    for item in element:\n",
    "        test_results.append(chr(item[1]))\n",
    "    \n",
    "test_results"
   ]
  },
  {
   "cell_type": "code",
   "execution_count": 119,
   "metadata": {
    "collapsed": false
   },
   "outputs": [
    {
     "data": {
      "text/plain": [
       "['_',\n",
       " b'\\x0e',\n",
       " b'\\x05',\n",
       " 'F',\n",
       " b'\\x05',\n",
       " b'\\x01',\n",
       " b'\\x0f',\n",
       " b'\\x04',\n",
       " 'G',\n",
       " b'\\x04',\n",
       " b'\\x01',\n",
       " b'\\x0f',\n",
       " b'\\x04',\n",
       " 'G',\n",
       " b'\\x04',\n",
       " b'\\x01',\n",
       " b'\\x0f',\n",
       " b'\\x04',\n",
       " 'G',\n",
       " b'\\x04',\n",
       " b'\\x01',\n",
       " b'\\x0f',\n",
       " b'\\x04',\n",
       " 'G',\n",
       " b'\\x04',\n",
       " b'\\x01',\n",
       " b'\\x0f',\n",
       " b'\\x04',\n",
       " 'G',\n",
       " b'\\x04',\n",
       " b'\\x01',\n",
       " b'\\x0f',\n",
       " b'\\x04',\n",
       " 'G',\n",
       " b'\\x04',\n",
       " b'\\x01',\n",
       " b'\\x0f',\n",
       " b'\\x04',\n",
       " 'G',\n",
       " b'\\x04',\n",
       " b'\\x01',\n",
       " b'\\x06',\n",
       " b'\\x03',\n",
       " b'\\x06',\n",
       " b'\\x04',\n",
       " b'\\x03',\n",
       " b'\\x03',\n",
       " b'\\t',\n",
       " b'\\x03',\n",
       " b'\\x07',\n",
       " b'\\x05',\n",
       " b'\\x03',\n",
       " b'\\x03',\n",
       " b'\\x04',\n",
       " b'\\x05',\n",
       " b'\\x03',\n",
       " b'\\x03',\n",
       " b'\\n',\n",
       " b'\\x03',\n",
       " b'\\x07',\n",
       " b'\\x04',\n",
       " b'\\x01',\n",
       " b'\\x03',\n",
       " b'\\x03',\n",
       " b'\\x03',\n",
       " b'\\x02',\n",
       " b'\\x04',\n",
       " b'\\x04',\n",
       " b'\\x01',\n",
       " b'\\x07',\n",
       " b'\\x05',\n",
       " b'\\x02',\n",
       " b'\\x02',\n",
       " b'\\x03',\n",
       " b'\\x06',\n",
       " b'\\x04',\n",
       " b'\\x01',\n",
       " b'\\x07',\n",
       " b'\\x03',\n",
       " b'\\x04',\n",
       " b'\\x01',\n",
       " b'\\x07',\n",
       " b'\\x05',\n",
       " b'\\x03',\n",
       " b'\\x02',\n",
       " b'\\x03',\n",
       " b'\\x05',\n",
       " b'\\x04',\n",
       " b'\\x01',\n",
       " b'\\x02',\n",
       " b'\\x03',\n",
       " b'\\x05',\n",
       " b'\\x03',\n",
       " b'\\x02',\n",
       " b'\\x05',\n",
       " b'\\x04',\n",
       " b'\\x04',\n",
       " b'\\x03',\n",
       " b'\\x03',\n",
       " b'\\x03',\n",
       " b'\\x04',\n",
       " b'\\x04',\n",
       " b'\\x05',\n",
       " b'\\x04',\n",
       " b'\\x04',\n",
       " b'\\x02',\n",
       " b'\\x05',\n",
       " b'\\x04',\n",
       " b'\\x04',\n",
       " b'\\x03',\n",
       " b'\\x03',\n",
       " b'\\x05',\n",
       " b'\\x03',\n",
       " b'\\x03',\n",
       " b'\\x04',\n",
       " b'\\x01',\n",
       " b'\\x01',\n",
       " b'\\x03',\n",
       " b'\\x0b',\n",
       " b'\\x04',\n",
       " b'\\x05',\n",
       " b'\\x04',\n",
       " b'\\x03',\n",
       " b'\\x03',\n",
       " b'\\x04',\n",
       " b'\\x03',\n",
       " b'\\x04',\n",
       " b'\\x04',\n",
       " b'\\x05',\n",
       " b'\\x04',\n",
       " b'\\x02',\n",
       " b'\\x04',\n",
       " b'\\x05',\n",
       " b'\\x04',\n",
       " b'\\x02',\n",
       " b'\\x03',\n",
       " b'\\x06',\n",
       " b'\\x04',\n",
       " b'\\x02',\n",
       " b'\\x04',\n",
       " b'\\x01',\n",
       " b'\\x01',\n",
       " b'\\x03',\n",
       " b'\\x0b',\n",
       " b'\\x04',\n",
       " b'\\x05',\n",
       " b'\\x04',\n",
       " b'\\n',\n",
       " b'\\x03',\n",
       " b'\\x04',\n",
       " b'\\x04',\n",
       " b'\\x05',\n",
       " b'\\x04',\n",
       " b'\\x02',\n",
       " b'\\x04',\n",
       " b'\\x05',\n",
       " b'\\x04',\n",
       " b'\\x02',\n",
       " b'\\x03',\n",
       " b'\\x07',\n",
       " b'\\x03',\n",
       " b'\\x02',\n",
       " b'\\x04',\n",
       " b'\\x01',\n",
       " b'\\x04',\n",
       " b'\\x0b',\n",
       " b'\\x04',\n",
       " b'\\x05',\n",
       " b'\\x04',\n",
       " b'\\x05',\n",
       " b'\\x02',\n",
       " b'\\x03',\n",
       " b'\\x03',\n",
       " b'\\x04',\n",
       " b'\\x04',\n",
       " b'\\x05',\n",
       " b'\\x04',\n",
       " b'\\x02',\n",
       " b'\\x04',\n",
       " b'\\x05',\n",
       " b'\\x04',\n",
       " b'\\x01',\n",
       " b'\\x04',\n",
       " b'\\x07',\n",
       " b'\\x03',\n",
       " b'\\x02',\n",
       " b'\\x04',\n",
       " b'\\x01',\n",
       " b'\\x04',\n",
       " b'\\x0b',\n",
       " b'\\x04',\n",
       " b'\\x05',\n",
       " b'\\x04',\n",
       " b'\\x03',\n",
       " b'\\n',\n",
       " b'\\x04',\n",
       " b'\\x04',\n",
       " b'\\x05',\n",
       " b'\\x04',\n",
       " b'\\x02',\n",
       " b'\\x04',\n",
       " b'\\x05',\n",
       " b'\\x04',\n",
       " b'\\x01',\n",
       " b'\\x0e',\n",
       " b'\\x02',\n",
       " b'\\x04',\n",
       " b'\\x01',\n",
       " b'\\x04',\n",
       " b'\\x0b',\n",
       " b'\\x04',\n",
       " b'\\x05',\n",
       " b'\\x04',\n",
       " b'\\x02',\n",
       " b'\\x03',\n",
       " b'\\x04',\n",
       " b'\\x04',\n",
       " b'\\x04',\n",
       " b'\\x04',\n",
       " b'\\x05',\n",
       " b'\\x04',\n",
       " b'\\x02',\n",
       " b'\\x04',\n",
       " b'\\x05',\n",
       " b'\\x04',\n",
       " b'\\x01',\n",
       " b'\\x04',\n",
       " b'\\x0c',\n",
       " b'\\x04',\n",
       " b'\\x01',\n",
       " b'\\x04',\n",
       " b'\\x0b',\n",
       " b'\\x04',\n",
       " b'\\x05',\n",
       " b'\\x04',\n",
       " b'\\x01',\n",
       " b'\\x04',\n",
       " b'\\x05',\n",
       " b'\\x03',\n",
       " b'\\x04',\n",
       " b'\\x04',\n",
       " b'\\x05',\n",
       " b'\\x04',\n",
       " b'\\x02',\n",
       " b'\\x04',\n",
       " b'\\x05',\n",
       " b'\\x04',\n",
       " b'\\x01',\n",
       " b'\\x04',\n",
       " b'\\x0c',\n",
       " b'\\x04',\n",
       " b'\\x01',\n",
       " b'\\x01',\n",
       " b'\\x03',\n",
       " b'\\x0b',\n",
       " b'\\x04',\n",
       " b'\\x05',\n",
       " b'\\x04',\n",
       " b'\\x01',\n",
       " b'\\x04',\n",
       " b'\\x05',\n",
       " b'\\x03',\n",
       " b'\\x04',\n",
       " b'\\x04',\n",
       " b'\\x05',\n",
       " b'\\x04',\n",
       " b'\\x02',\n",
       " b'\\x04',\n",
       " b'\\x05',\n",
       " b'\\x04',\n",
       " b'\\x02',\n",
       " b'\\x03',\n",
       " b'\\x0c',\n",
       " b'\\x04',\n",
       " b'\\x01',\n",
       " b'\\x02',\n",
       " b'\\x03',\n",
       " b'\\x06',\n",
       " b'\\x02',\n",
       " b'\\x02',\n",
       " b'\\x04',\n",
       " b'\\x05',\n",
       " b'\\x04',\n",
       " b'\\x02',\n",
       " b'\\x03',\n",
       " b'\\x04',\n",
       " b'\\x04',\n",
       " b'\\x04',\n",
       " b'\\x04',\n",
       " b'\\x05',\n",
       " b'\\x04',\n",
       " b'\\x02',\n",
       " b'\\x04',\n",
       " b'\\x05',\n",
       " b'\\x04',\n",
       " b'\\x03',\n",
       " b'\\x03',\n",
       " b'\\x06',\n",
       " b'\\x02',\n",
       " b'\\x03',\n",
       " b'\\x04',\n",
       " b'\\x01',\n",
       " b'\\x03',\n",
       " b'\\x03',\n",
       " b'\\x04',\n",
       " b'\\x02',\n",
       " b'\\x03',\n",
       " b'\\x04',\n",
       " b'\\x05',\n",
       " b'\\x04',\n",
       " b'\\x03',\n",
       " b'\\x0b',\n",
       " b'\\x03',\n",
       " b'\\x04',\n",
       " b'\\x05',\n",
       " b'\\x04',\n",
       " b'\\x02',\n",
       " b'\\x04',\n",
       " b'\\x05',\n",
       " b'\\x04',\n",
       " b'\\x04',\n",
       " b'\\x03',\n",
       " b'\\x04',\n",
       " b'\\x02',\n",
       " b'\\x04',\n",
       " b'\\x04',\n",
       " b'\\x01',\n",
       " b'\\x06',\n",
       " b'\\x03',\n",
       " b'\\x05',\n",
       " b'\\x06',\n",
       " b'\\x04',\n",
       " b'\\x05',\n",
       " b'\\x04',\n",
       " b'\\x02',\n",
       " b'\\x04',\n",
       " b'\\x04',\n",
       " b'\\x01',\n",
       " b'\\x06',\n",
       " b'\\x04',\n",
       " b'\\x0b',\n",
       " b'\\x04',\n",
       " b'\\x05',\n",
       " b'\\x06',\n",
       " b'\\x03',\n",
       " b'\\x06',\n",
       " b'\\x06',\n",
       " '_']"
      ]
     },
     "execution_count": 119,
     "metadata": {},
     "output_type": "execute_result"
    }
   ],
   "source": [
    "new_test_results = []\n",
    "for i in test_results:\n",
    "    if i in ['_', 'F', 'G', '/n', '/t']:\n",
    "        new_test_results.append(i)\n",
    "    else:\n",
    "        new_byte = i.encode('latin-1')\n",
    "        new_test_results.append(new_byte)\n",
    "\n",
    "# After trying many encodings, it looks like the data are in latin-1\n",
    "# The if/else is completely unnecessary the members of that list convert to equivalent (i.e. '_'.encode('latin-1') == b'_')\n",
    "new_test_results"
   ]
  },
  {
   "cell_type": "code",
   "execution_count": 124,
   "metadata": {
    "collapsed": false
   },
   "outputs": [
    {
     "data": {
      "text/plain": [
       "True"
      ]
     },
     "execution_count": 124,
     "metadata": {},
     "output_type": "execute_result"
    }
   ],
   "source": [
    "test_results[0].encode('utf-8') == new_test_results[0].encode('latin-1')"
   ]
  },
  {
   "cell_type": "code",
   "execution_count": 127,
   "metadata": {
    "collapsed": false
   },
   "outputs": [
    {
     "name": "stdout",
     "output_type": "stream",
     "text": [
      "b'\\x0e'\n"
     ]
    }
   ],
   "source": []
  }
 ],
 "metadata": {
  "kernelspec": {
   "display_name": "Python 3",
   "language": "python",
   "name": "python3"
  },
  "language_info": {
   "codemirror_mode": {
    "name": "ipython",
    "version": 3
   },
   "file_extension": ".py",
   "mimetype": "text/x-python",
   "name": "python",
   "nbconvert_exporter": "python",
   "pygments_lexer": "ipython3",
   "version": "3.6.0"
  }
 },
 "nbformat": 4,
 "nbformat_minor": 0
}
