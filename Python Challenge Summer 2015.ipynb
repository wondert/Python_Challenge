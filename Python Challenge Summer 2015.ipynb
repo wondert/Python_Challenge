{
 "cells": [
  {
   "cell_type": "markdown",
   "metadata": {},
   "source": [
    "# Challenge 1"
   ]
  },
  {
   "cell_type": "markdown",
   "metadata": {},
   "source": [
    "http://www.pythonchallenge.com/pc/def/0.html"
   ]
  },
  {
   "cell_type": "markdown",
   "metadata": {},
   "source": [
    "Hint: try to change the URL address."
   ]
  },
  {
   "cell_type": "code",
   "execution_count": 12,
   "metadata": {
    "collapsed": false
   },
   "outputs": [
    {
     "data": {
      "text/plain": [
       "274877906944"
      ]
     },
     "execution_count": 12,
     "metadata": {},
     "output_type": "execute_result"
    }
   ],
   "source": [
    "2**38"
   ]
  },
  {
   "cell_type": "markdown",
   "metadata": {},
   "source": [
    "# Challenge 2"
   ]
  },
  {
   "cell_type": "markdown",
   "metadata": {},
   "source": [
    "http://www.pythonchallenge.com/pc/def/274877906944.html"
   ]
  },
  {
   "cell_type": "markdown",
   "metadata": {},
   "source": [
    "everybody thinks twice before solving this.\n",
    "K -> M\n",
    "O -> Q\n",
    "E -> G"
   ]
  },
  {
   "cell_type": "code",
   "execution_count": 1,
   "metadata": {
    "collapsed": true
   },
   "outputs": [],
   "source": [
    "mystery1 = \"g fmnc wms bgblr rpylqjyrc gr zw fylb. rfyrq ufyr amknsrcpq ypc dmp. bmgle gr gl zw fylb gq glcddgagclr ylb rfyr'q ufw rfgq rcvr gq qm\" \n",
    "mystery2 = \"jmle. sqgle qrpgle.kyicrpylq() gq pcamkkclbcb. lmu ynnjw ml rfc spj.\""
   ]
  },
  {
   "cell_type": "code",
   "execution_count": 3,
   "metadata": {
    "collapsed": false
   },
   "outputs": [
    {
     "data": {
      "text/plain": [
       "'abcdefghijklmnopqrstuvwxyz'"
      ]
     },
     "execution_count": 3,
     "metadata": {},
     "output_type": "execute_result"
    }
   ],
   "source": [
    "import string\n",
    "alphabet = string.ascii_lowercase\n",
    "alphabet"
   ]
  },
  {
   "cell_type": "code",
   "execution_count": 5,
   "metadata": {
    "collapsed": false
   },
   "outputs": [
    {
     "data": {
      "text/plain": [
       "{' ': ' ',\n",
       " \"'\": \"'\",\n",
       " '(': '(',\n",
       " ')': ')',\n",
       " '.': '.',\n",
       " 'a': 0,\n",
       " 'b': 1,\n",
       " 'c': 2,\n",
       " 'd': 3,\n",
       " 'e': 4,\n",
       " 'f': 5,\n",
       " 'g': 6,\n",
       " 'h': 7,\n",
       " 'i': 8,\n",
       " 'j': 9,\n",
       " 'k': 10,\n",
       " 'l': 11,\n",
       " 'm': 12,\n",
       " 'n': 13,\n",
       " 'o': 14,\n",
       " 'p': 15,\n",
       " 'q': 16,\n",
       " 'r': 17,\n",
       " 's': 18,\n",
       " 't': 19,\n",
       " 'u': 20,\n",
       " 'v': 21,\n",
       " 'w': 22,\n",
       " 'x': 23,\n",
       " 'y': 24,\n",
       " 'z': 25}"
      ]
     },
     "execution_count": 5,
     "metadata": {},
     "output_type": "execute_result"
    }
   ],
   "source": [
    "codex = {i:j for i,j in zip(alphabet,range(26))}\n",
    "codex[\"(\"] = \"(\"\n",
    "codex[\")\"] = \")\"\n",
    "codex[\"'\"] = \"'\"\n",
    "codex[\" \"] = \" \"\n",
    "codex[\".\"] = \".\"\n",
    "codex"
   ]
  },
  {
   "cell_type": "code",
   "execution_count": 6,
   "metadata": {
    "collapsed": true
   },
   "outputs": [],
   "source": [
    "def decoder(sequence):\n",
    "    translation = []\n",
    "    for i in sequence:\n",
    "        element = codex[i]\n",
    "        translation.append(element)\n",
    "    return translation"
   ]
  },
  {
   "cell_type": "code",
   "execution_count": 16,
   "metadata": {
    "collapsed": true
   },
   "outputs": [],
   "source": [
    "numbered_message_1 = decoder(mystery1)\n",
    "numbered_message_2 = decoder(mystery2)"
   ]
  },
  {
   "cell_type": "code",
   "execution_count": 17,
   "metadata": {
    "collapsed": false
   },
   "outputs": [
    {
     "data": {
      "text/plain": [
       "[6,\n",
       " ' ',\n",
       " 5,\n",
       " 12,\n",
       " 13,\n",
       " 2,\n",
       " ' ',\n",
       " 22,\n",
       " 12,\n",
       " 18,\n",
       " ' ',\n",
       " 1,\n",
       " 6,\n",
       " 1,\n",
       " 11,\n",
       " 17,\n",
       " ' ',\n",
       " 17,\n",
       " 15,\n",
       " 24,\n",
       " 11,\n",
       " 16,\n",
       " 9,\n",
       " 24,\n",
       " 17,\n",
       " 2,\n",
       " ' ',\n",
       " 6,\n",
       " 17,\n",
       " ' ',\n",
       " 25,\n",
       " 22,\n",
       " ' ',\n",
       " 5,\n",
       " 24,\n",
       " 11,\n",
       " 1,\n",
       " '.',\n",
       " ' ',\n",
       " 17,\n",
       " 5,\n",
       " 24,\n",
       " 17,\n",
       " 16,\n",
       " ' ',\n",
       " 20,\n",
       " 5,\n",
       " 24,\n",
       " 17,\n",
       " ' ',\n",
       " 0,\n",
       " 12,\n",
       " 10,\n",
       " 13,\n",
       " 18,\n",
       " 17,\n",
       " 2,\n",
       " 15,\n",
       " 16,\n",
       " ' ',\n",
       " 24,\n",
       " 15,\n",
       " 2,\n",
       " ' ',\n",
       " 3,\n",
       " 12,\n",
       " 15,\n",
       " '.',\n",
       " ' ',\n",
       " 1,\n",
       " 12,\n",
       " 6,\n",
       " 11,\n",
       " 4,\n",
       " ' ',\n",
       " 6,\n",
       " 17,\n",
       " ' ',\n",
       " 6,\n",
       " 11,\n",
       " ' ',\n",
       " 25,\n",
       " 22,\n",
       " ' ',\n",
       " 5,\n",
       " 24,\n",
       " 11,\n",
       " 1,\n",
       " ' ',\n",
       " 6,\n",
       " 16,\n",
       " ' ',\n",
       " 6,\n",
       " 11,\n",
       " 2,\n",
       " 3,\n",
       " 3,\n",
       " 6,\n",
       " 0,\n",
       " 6,\n",
       " 2,\n",
       " 11,\n",
       " 17,\n",
       " ' ',\n",
       " 24,\n",
       " 11,\n",
       " 1,\n",
       " ' ',\n",
       " 17,\n",
       " 5,\n",
       " 24,\n",
       " 17,\n",
       " \"'\",\n",
       " 16,\n",
       " ' ',\n",
       " 20,\n",
       " 5,\n",
       " 22,\n",
       " ' ',\n",
       " 17,\n",
       " 5,\n",
       " 6,\n",
       " 16,\n",
       " ' ',\n",
       " 17,\n",
       " 2,\n",
       " 21,\n",
       " 17,\n",
       " ' ',\n",
       " 6,\n",
       " 16,\n",
       " ' ',\n",
       " 16,\n",
       " 12]"
      ]
     },
     "execution_count": 17,
     "metadata": {},
     "output_type": "execute_result"
    }
   ],
   "source": [
    "numbered_message_1"
   ]
  },
  {
   "cell_type": "code",
   "execution_count": 19,
   "metadata": {
    "collapsed": false
   },
   "outputs": [
    {
     "data": {
      "text/plain": [
       "[24,\n",
       " 25,\n",
       " 0,\n",
       " 1,\n",
       " 2,\n",
       " 3,\n",
       " 4,\n",
       " 5,\n",
       " 6,\n",
       " 7,\n",
       " 8,\n",
       " 9,\n",
       " 10,\n",
       " 11,\n",
       " 12,\n",
       " 13,\n",
       " 14,\n",
       " 15,\n",
       " 16,\n",
       " 17,\n",
       " 18,\n",
       " 19,\n",
       " 20,\n",
       " 21,\n",
       " 22,\n",
       " 23]"
      ]
     },
     "execution_count": 19,
     "metadata": {},
     "output_type": "execute_result"
    }
   ],
   "source": [
    "new_range = [24,25] + list(range(0,24))\n",
    "new_range"
   ]
  },
  {
   "cell_type": "code",
   "execution_count": 20,
   "metadata": {
    "collapsed": false
   },
   "outputs": [
    {
     "data": {
      "text/plain": [
       "{0: 'c',\n",
       " 1: 'd',\n",
       " 2: 'e',\n",
       " 3: 'f',\n",
       " 4: 'g',\n",
       " 5: 'h',\n",
       " 6: 'i',\n",
       " 7: 'j',\n",
       " 8: 'k',\n",
       " 9: 'l',\n",
       " 10: 'm',\n",
       " 11: 'n',\n",
       " 12: 'o',\n",
       " 13: 'p',\n",
       " 14: 'q',\n",
       " 15: 'r',\n",
       " 16: 's',\n",
       " 17: 't',\n",
       " 18: 'u',\n",
       " 19: 'v',\n",
       " 20: 'w',\n",
       " 21: 'x',\n",
       " 22: 'y',\n",
       " 23: 'z',\n",
       " 24: 'a',\n",
       " 25: 'b',\n",
       " ')': ')',\n",
       " ' ': ' ',\n",
       " '(': '(',\n",
       " \"'\": \"'\",\n",
       " '.': '.'}"
      ]
     },
     "execution_count": 20,
     "metadata": {},
     "output_type": "execute_result"
    }
   ],
   "source": [
    "new_codex = {i:j for i,j in zip(new_range,alphabet)}\n",
    "new_codex[\"(\"] = \"(\"\n",
    "new_codex[\")\"] = \")\"\n",
    "new_codex[\"'\"] = \"'\"\n",
    "new_codex[\" \"] = \" \"\n",
    "new_codex[\".\"] = \".\"\n",
    "new_codex"
   ]
  },
  {
   "cell_type": "code",
   "execution_count": 21,
   "metadata": {
    "collapsed": false
   },
   "outputs": [
    {
     "name": "stdout",
     "output_type": "stream",
     "text": [
      "i hope you didnt translate it by hand. thats what computers are for. doing it in by hand is inefficient and that's why this text is so long. using string.maketrans() is recommended. now apply on the url.\n"
     ]
    }
   ],
   "source": [
    "new_numbered_message_1 = [new_codex[i] for i in numbered_message_1]\n",
    "new_numbered_message_2 = [new_codex[i] for i in numbered_message_2]\n",
    "translation_1 = \"\".join(new_numbered_message_1)\n",
    "translation_2 = \"\".join(new_numbered_message_2)\n",
    "print(translation_1,translation_2)"
   ]
  },
  {
   "cell_type": "code",
   "execution_count": 26,
   "metadata": {
    "collapsed": false
   },
   "outputs": [
    {
     "data": {
      "text/plain": [
       "\"i hope you didnt translate it by hand. thats what computers are for. doing it in by hand is inefficient and that's why this text is solong. using string.maketrans() is recommended. now apply on the url.\""
      ]
     },
     "execution_count": 26,
     "metadata": {},
     "output_type": "execute_result"
    }
   ],
   "source": [
    "# This would be the faster way to do this, four simple lines of code plus import statement for ascii_lowercase alphabet\n",
    "# string.maketrans was depricated since they changed string into three types in Python 3 (str,bytes,bytearray)\n",
    "original_trans = mystery1 + mystery2\n",
    "first_alphabet = alphabet + \" \" + \"(\" + \")\" + \"'\" + \".\"\n",
    "translated_alphabet = alphabet[2:26] + \"a\" + \"b\" + \" \" + \"(\" + \")\" + \"'\" + \".\"\n",
    "original_trans.translate(str.maketrans(first_alphabet,translated_alphabet))"
   ]
  },
  {
   "cell_type": "code",
   "execution_count": 29,
   "metadata": {
    "collapsed": false
   },
   "outputs": [
    {
     "data": {
      "text/plain": [
       "'ocr'"
      ]
     },
     "execution_count": 29,
     "metadata": {},
     "output_type": "execute_result"
    }
   ],
   "source": [
    "# translation on the url ~ map and not including the /pc/def/ or .html\n",
    "url = 'map'\n",
    "url.translate(str.maketrans(first_alphabet,translated_alphabet))"
   ]
  },
  {
   "cell_type": "markdown",
   "metadata": {},
   "source": [
    "# Challenge 3"
   ]
  },
  {
   "cell_type": "markdown",
   "metadata": {},
   "source": [
    "http://www.pythonchallenge.com/pc/def/ocr.html"
   ]
  },
  {
   "cell_type": "code",
   "execution_count": null,
   "metadata": {
    "collapsed": true
   },
   "outputs": [],
   "source": []
  }
 ],
 "metadata": {
  "kernelspec": {
   "display_name": "Python 3",
   "language": "python",
   "name": "python3"
  },
  "language_info": {
   "codemirror_mode": {
    "name": "ipython",
    "version": 3
   },
   "file_extension": ".py",
   "mimetype": "text/x-python",
   "name": "python",
   "nbconvert_exporter": "python",
   "pygments_lexer": "ipython3",
   "version": "3.6.0"
  }
 },
 "nbformat": 4,
 "nbformat_minor": 0
}
